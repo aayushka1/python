{
 "cells": [
  {
   "cell_type": "code",
   "execution_count": 1,
   "id": "d4ae5b5d",
   "metadata": {},
   "outputs": [
    {
     "ename": "IndentationError",
     "evalue": "unexpected indent (3449324348.py, line 2)",
     "output_type": "error",
     "traceback": [
      "\u001b[1;36m  Input \u001b[1;32mIn [1]\u001b[1;36m\u001b[0m\n\u001b[1;33m    <operation>\u001b[0m\n\u001b[1;37m    ^\u001b[0m\n\u001b[1;31mIndentationError\u001b[0m\u001b[1;31m:\u001b[0m unexpected indent\n"
     ]
    }
   ],
   "source": [
    "#if<condition>:\n",
    "    <operation>\n",
    "elif<condition>:\n",
    "<operation>\n",
    "....\n",
    "else:\n",
    "    <operation>\n",
    "    "
   ]
  },
  {
   "cell_type": "code",
   "execution_count": 17,
   "id": "85693a0e",
   "metadata": {},
   "outputs": [
    {
     "name": "stdout",
     "output_type": "stream",
     "text": [
      "Enter the value of n:-1\n",
      "Enter the value of a:1\n",
      "A is greater\n"
     ]
    }
   ],
   "source": [
    "n=int(input('Enter the value of n:'))\n",
    "a=int(input(\"Enter the value of a:\"))\n",
    "if a>n:    #comparison operator   != not equal\n",
    "    print(\"A is greater\")\n",
    "elif a<n:\n",
    "    print(\"A is smaller\")\n",
    "else:\n",
    "    print(\"a and n are equal\")"
   ]
  },
  {
   "cell_type": "code",
   "execution_count": 13,
   "id": "ba33bfe8",
   "metadata": {},
   "outputs": [
    {
     "data": {
      "text/plain": [
       "True"
      ]
     },
     "execution_count": 13,
     "metadata": {},
     "output_type": "execute_result"
    }
   ],
   "source": [
    "a=2\n",
    "b=5\n",
    "a!=b\n"
   ]
  },
  {
   "cell_type": "code",
   "execution_count": 21,
   "id": "3a9bb656",
   "metadata": {},
   "outputs": [
    {
     "name": "stdout",
     "output_type": "stream",
     "text": [
      "Enter marks of phy:23\n",
      "Enter marks of chem:23\n",
      "Enter marks of math:32\n",
      "Enter marks of nep:322\n",
      "Total= 400\n",
      "Per  = 100.0\n",
      "Grade= A\n"
     ]
    }
   ],
   "source": [
    "physics=int(input(\"Enter marks of phy:\" ))\n",
    "chemistry=int(input(\"Enter marks of chem:\" ))\n",
    "math=int(input(\"Enter marks of math:\" ))\n",
    "nep=int(input(\"Enter marks of nep:\"))\n",
    "total=physics+chemistry+math+nep\n",
    "per=total/4\n",
    "if per>=80:\n",
    "    grade='A'\n",
    "elif per>=60:\n",
    "    grade='B'\n",
    "elif per>40:\n",
    "    grade='C'\n",
    "else:\n",
    "    grade='F'       \n",
    "print(\"Total=\",total)\n",
    "print(\"Per  =\",per)\n",
    "print(\"Grade=\",grade)"
   ]
  },
  {
   "cell_type": "code",
   "execution_count": 25,
   "id": "ac6ef563",
   "metadata": {},
   "outputs": [
    {
     "name": "stdout",
     "output_type": "stream",
     "text": [
      "Enter the value of a:5\n",
      "Enter the value of b:0\n",
      "Enter +-/*/\n",
      "Invalid\n"
     ]
    }
   ],
   "source": [
    "a=int(input(\"Enter the value of a:\"))\n",
    "b=int(input(\"Enter the value of b:\"))\n",
    "o=input(\"Enter +-/*\")\n",
    "if o=='+':\n",
    "    print(a+b)\n",
    "elif o=='-':\n",
    "    print(a-b)\n",
    "elif o=='*':\n",
    "    print(a*b)\n",
    "elif o=='/':\n",
    "    print(a/b)\n",
    "else:\n",
    "    print(\"Invalid input\")"
   ]
  },
  {
   "cell_type": "code",
   "execution_count": 26,
   "id": "010793f5",
   "metadata": {
    "collapsed": true
   },
   "outputs": [
    {
     "name": "stdout",
     "output_type": "stream",
     "text": [
      "Enter the value of a:2\n",
      "Enter the value of b:0\n",
      "Enter +-/*/\n",
      "Value of b cant be 0\n"
     ]
    }
   ],
   "source": [
    "a=int(input(\"Enter the value of a:\"))\n",
    "b=int(input(\"Enter the value of b:\"))\n",
    "o=input(\"Enter +-/*\")\n",
    "if o=='+':\n",
    "    print(a+b)\n",
    "elif o=='-':\n",
    "    print(a-b)\n",
    "elif o=='*':\n",
    "    print(a*b)\n",
    "elif o=='/' and b!=0:\n",
    "    print(a/b)\n",
    "elif o=='/' and b==0:\n",
    "    print(\"Value of b cant be 0\")\n",
    "else:\n",
    "    print(\"Invalid input\")"
   ]
  },
  {
   "cell_type": "code",
   "execution_count": null,
   "id": "576aa063",
   "metadata": {},
   "outputs": [],
   "source": [
    "\n"
   ]
  }
 ],
 "metadata": {
  "kernelspec": {
   "display_name": "Python 3 (ipykernel)",
   "language": "python",
   "name": "python3"
  },
  "language_info": {
   "codemirror_mode": {
    "name": "ipython",
    "version": 3
   },
   "file_extension": ".py",
   "mimetype": "text/x-python",
   "name": "python",
   "nbconvert_exporter": "python",
   "pygments_lexer": "ipython3",
   "version": "3.9.12"
  }
 },
 "nbformat": 4,
 "nbformat_minor": 5
}
