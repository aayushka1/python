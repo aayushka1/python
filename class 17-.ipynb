{
 "cells": [
  {
   "cell_type": "code",
   "execution_count": 10,
   "id": "412136d1",
   "metadata": {},
   "outputs": [
    {
     "name": "stdout",
     "output_type": "stream",
     "text": [
      "Requirement already satisfied: mysql-connector in c:\\users\\user\\anaconda3\\lib\\site-packages (2.2.9)\n"
     ]
    }
   ],
   "source": [
    "!pip install mysql-connector"
   ]
  },
  {
   "cell_type": "code",
   "execution_count": 7,
   "id": "c7e60ba1",
   "metadata": {},
   "outputs": [],
   "source": [
    "import mysql.connector\n",
    "#importing database\n",
    "database = mysql.connector.connect(\n",
    "host=\"localhost\",\n",
    "user=\"root\",\n",
    "password=\"python\"\n",
    "    \n",
    ")\n",
    "db = database.cursor()\n",
    "\n"
   ]
  },
  {
   "cell_type": "code",
   "execution_count": 11,
   "id": "b57245cd",
   "metadata": {},
   "outputs": [
    {
     "ename": "SyntaxError",
     "evalue": "EOL while scanning string literal (190974028.py, line 1)",
     "output_type": "error",
     "traceback": [
      "\u001b[1;36m  Input \u001b[1;32mIn [11]\u001b[1;36m\u001b[0m\n\u001b[1;33m    db.execute(\"SELECT * FROM student”)\u001b[0m\n\u001b[1;37m                                       ^\u001b[0m\n\u001b[1;31mSyntaxError\u001b[0m\u001b[1;31m:\u001b[0m EOL while scanning string literal\n"
     ]
    }
   ],
   "source": [
    "db.execute(\"SELECT * FROM student”)\n",
    "result =db.fetchall()\n",
    "#for x in result:\n",
    "#    print(x)\n",
    "result"
   ]
  },
  {
   "cell_type": "code",
   "execution_count": null,
   "id": "4d97b6cf",
   "metadata": {},
   "outputs": [],
   "source": [
    "db.execute(\"SELECT sn,name,total FROM student”)\n",
    "result =db.fetchall()\n",
    "#for x in result:\n",
    "#    print(x)\n",
    "result"
   ]
  },
  {
   "cell_type": "code",
   "execution_count": null,
   "id": "50ab7f98",
   "metadata": {},
   "outputs": [],
   "source": [
    "#inserting data\n",
    "sql=f\"INSERT INTO student(sn,name,physics,chemistry,math,english,nepali,total,percentage,grade) VALUES(7,'Ram',45,56,65,67,78,478,88.00,'A+')\"\n",
    "db.execute(sql)\n",
    "database.commit()"
   ]
  }
 ],
 "metadata": {
  "kernelspec": {
   "display_name": "Python 3 (ipykernel)",
   "language": "python",
   "name": "python3"
  },
  "language_info": {
   "codemirror_mode": {
    "name": "ipython",
    "version": 3
   },
   "file_extension": ".py",
   "mimetype": "text/x-python",
   "name": "python",
   "nbconvert_exporter": "python",
   "pygments_lexer": "ipython3",
   "version": "3.9.12"
  }
 },
 "nbformat": 4,
 "nbformat_minor": 5
}
