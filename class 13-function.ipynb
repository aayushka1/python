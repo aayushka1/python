{
 "cells": [
  {
   "cell_type": "code",
   "execution_count": 1,
   "id": "7282b7fd",
   "metadata": {},
   "outputs": [],
   "source": [
    "#function\n",
    "#user defined\n",
    "#pre defined\n",
    "\n"
   ]
  },
  {
   "cell_type": "code",
   "execution_count": 2,
   "id": "99c8f9bb",
   "metadata": {},
   "outputs": [],
   "source": [
    "#def <functionn>:\n",
    "# <operation>\n",
    "#<functionn>()"
   ]
  },
  {
   "cell_type": "code",
   "execution_count": null,
   "id": "85d887aa",
   "metadata": {},
   "outputs": [],
   "source": [
    "#function with no argument and no return type\n",
    "#function with argument and no return type\n",
    "#function with both argument and return type\n",
    "#function with no argument and return type"
   ]
  },
  {
   "cell_type": "code",
   "execution_count": 3,
   "id": "61146ece",
   "metadata": {},
   "outputs": [
    {
     "name": "stdout",
     "output_type": "stream",
     "text": [
      "Enter l:2\n",
      "Enter b:3\n",
      "6\n"
     ]
    }
   ],
   "source": [
    "#function with no argument and no return type\n",
    "def cal():\n",
    "    l=int(input(\"Enter l:\"))               #local variable(function bhitra define bhayeko hunale)\n",
    "    b=int(input(\"Enter b:\"))\n",
    "    a=l*b\n",
    "    print(a)\n",
    "    \n",
    "cal()"
   ]
  },
  {
   "cell_type": "code",
   "execution_count": 4,
   "id": "ed0438a9",
   "metadata": {},
   "outputs": [
    {
     "name": "stdout",
     "output_type": "stream",
     "text": [
      "Enter l:2\n",
      "Enter b:3\n",
      "6\n"
     ]
    },
    {
     "ename": "NameError",
     "evalue": "name 'l' is not defined",
     "output_type": "error",
     "traceback": [
      "\u001b[1;31m---------------------------------------------------------------------------\u001b[0m",
      "\u001b[1;31mNameError\u001b[0m                                 Traceback (most recent call last)",
      "Input \u001b[1;32mIn [4]\u001b[0m, in \u001b[0;36m<cell line: 8>\u001b[1;34m()\u001b[0m\n\u001b[0;32m      5\u001b[0m     \u001b[38;5;28mprint\u001b[39m(a)\n\u001b[0;32m      7\u001b[0m cal()\n\u001b[1;32m----> 8\u001b[0m \u001b[38;5;28mprint\u001b[39m(\u001b[43ml\u001b[49m,b)\n",
      "\u001b[1;31mNameError\u001b[0m: name 'l' is not defined"
     ]
    }
   ],
   "source": [
    "def cal():\n",
    "    l=int(input(\"Enter l:\"))               \n",
    "    b=int(input(\"Enter b:\"))\n",
    "    a=l*b\n",
    "    print(a)\n",
    "    \n",
    "cal()\n",
    "print(l,b)"
   ]
  },
  {
   "cell_type": "code",
   "execution_count": 5,
   "id": "7e3d2f53",
   "metadata": {},
   "outputs": [
    {
     "name": "stdout",
     "output_type": "stream",
     "text": [
      "Enter l:4\n",
      "Enter b:5\n",
      "20\n",
      "4 5\n"
     ]
    }
   ],
   "source": [
    "l=int(input(\"Enter l:\"))  #global variable             \n",
    "b=int(input(\"Enter b:\"))\n",
    "def cal():\n",
    "    a=l*b\n",
    "    print(a)\n",
    "    \n",
    "cal()\n",
    "print(l,b)"
   ]
  },
  {
   "cell_type": "code",
   "execution_count": 7,
   "id": "286fd28a",
   "metadata": {},
   "outputs": [
    {
     "name": "stdout",
     "output_type": "stream",
     "text": [
      "Enter l:2\n",
      "Enter b:8\n",
      "16\n",
      "2 8 16\n"
     ]
    }
   ],
   "source": [
    "#function with no argument and no return type\n",
    "def cal():\n",
    "    global l,b,a\n",
    "    l=int(input(\"Enter l:\"))               \n",
    "    b=int(input(\"Enter b:\"))\n",
    "    a=l*b\n",
    "    print(a)\n",
    "    \n",
    "cal()\n",
    "print(l,b,a)"
   ]
  },
  {
   "cell_type": "code",
   "execution_count": 8,
   "id": "588174db",
   "metadata": {},
   "outputs": [
    {
     "name": "stdout",
     "output_type": "stream",
     "text": [
      "Enter the value of l=2\n",
      "Enter the value of b=3\n",
      "6\n"
     ]
    }
   ],
   "source": [
    "#function with argument and no return type\n",
    "def cal(l,b):#parameter\n",
    "    a=l*b\n",
    "    print(a)\n",
    "l=int(input(\"Enter the value of l=\"))\n",
    "b=int(input(\"Enter the value of b=\"))\n",
    "cal(l,b)#argument\n",
    "\n"
   ]
  },
  {
   "cell_type": "code",
   "execution_count": 13,
   "id": "f43f4915",
   "metadata": {},
   "outputs": [
    {
     "name": "stdout",
     "output_type": "stream",
     "text": [
      "Enter the value of l=6\n",
      "Enter the value of b=6\n",
      "Enter the value of h=6\n",
      "216\n"
     ]
    }
   ],
   "source": [
    "def cal(data):#parameter\n",
    "    x,y,z=data\n",
    "    v=x*y*z\n",
    "    print(v)\n",
    "l=int(input(\"Enter the value of l=\"))\n",
    "b=int(input(\"Enter the value of b=\"))\n",
    "h=int(input(\"Enter the value of h=\"))\n",
    "data=(l,b,h)\n",
    "cal(data)\n",
    "\n"
   ]
  },
  {
   "cell_type": "code",
   "execution_count": 14,
   "id": "6eefad4a",
   "metadata": {},
   "outputs": [
    {
     "name": "stdout",
     "output_type": "stream",
     "text": [
      "PHP\n",
      "C\n",
      "C++\n",
      "Java\n",
      "Python\n"
     ]
    }
   ],
   "source": [
    "def language(lan=\"Python\"):\n",
    "    print(lan)\n",
    "\n",
    "language(\"PHP\")\n",
    "language(\"C\")\n",
    "language(\"C++\")\n",
    "language(\"Java\")\n",
    "language()"
   ]
  },
  {
   "cell_type": "code",
   "execution_count": 17,
   "id": "f05b8991",
   "metadata": {},
   "outputs": [
    {
     "name": "stdout",
     "output_type": "stream",
     "text": [
      "50\n"
     ]
    }
   ],
   "source": [
    "\n",
    "#function with no argument and return type\n",
    "def cal():\n",
    "    l=10\n",
    "    b=5\n",
    "    a=l*b\n",
    "    return a\n",
    "print(cal())\n",
    "\n"
   ]
  },
  {
   "cell_type": "code",
   "execution_count": 20,
   "id": "1314f4fb",
   "metadata": {},
   "outputs": [
    {
     "name": "stdout",
     "output_type": "stream",
     "text": [
      "100\n"
     ]
    }
   ],
   "source": [
    "def cal():\n",
    "    l=10\n",
    "    b=5\n",
    "    a=l*b\n",
    "    return a\n",
    "h=2\n",
    "area=cal()\n",
    "volume=area*h\n",
    "print(volume)"
   ]
  },
  {
   "cell_type": "code",
   "execution_count": 21,
   "id": "a3ab3fa5",
   "metadata": {},
   "outputs": [
    {
     "name": "stdout",
     "output_type": "stream",
     "text": [
      "The area= 50\n",
      "The volume= 100\n"
     ]
    }
   ],
   "source": [
    "def cal():\n",
    "    l=10\n",
    "    b=5\n",
    "    h=2\n",
    "    a=l*b\n",
    "    v=a*h\n",
    "    return a,v\n",
    "x=cal()\n",
    "ar,vo=x\n",
    "print(\"The area=\",ar)\n",
    "print(\"The volume=\",vo)"
   ]
  },
  {
   "cell_type": "code",
   "execution_count": 23,
   "id": "38770a42",
   "metadata": {},
   "outputs": [
    {
     "name": "stdout",
     "output_type": "stream",
     "text": [
      "The area= 50\n",
      "The volume= 100\n"
     ]
    }
   ],
   "source": [
    "#function with  argument and return type\n",
    "def cal(l,b,h):\n",
    "    a=l*b\n",
    "    v=a*h\n",
    "    return a,v\n",
    "l=10\n",
    "b=5\n",
    "h=2\n",
    "x=cal(l,b,h)\n",
    "ar,vo=x\n",
    "print(\"The area=\",ar)\n",
    "print(\"The volume=\",vo)"
   ]
  },
  {
   "cell_type": "code",
   "execution_count": null,
   "id": "bd283da9",
   "metadata": {},
   "outputs": [],
   "source": []
  }
 ],
 "metadata": {
  "kernelspec": {
   "display_name": "Python 3 (ipykernel)",
   "language": "python",
   "name": "python3"
  },
  "language_info": {
   "codemirror_mode": {
    "name": "ipython",
    "version": 3
   },
   "file_extension": ".py",
   "mimetype": "text/x-python",
   "name": "python",
   "nbconvert_exporter": "python",
   "pygments_lexer": "ipython3",
   "version": "3.9.12"
  }
 },
 "nbformat": 4,
 "nbformat_minor": 5
}
