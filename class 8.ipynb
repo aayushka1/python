{
 "cells": [
  {
   "cell_type": "code",
   "execution_count": 2,
   "id": "b768fb16",
   "metadata": {},
   "outputs": [
    {
     "name": "stdout",
     "output_type": "stream",
     "text": [
      "[[1, 2, 3], [4, 5, 6], [7, 8, 9]]\n"
     ]
    }
   ],
   "source": [
    "#list inside list\n",
    "a=[[1,2,3],[4,5,6],[7,8,9]]\n",
    "print(a)"
   ]
  },
  {
   "cell_type": "code",
   "execution_count": 3,
   "id": "f0abff8f",
   "metadata": {},
   "outputs": [
    {
     "name": "stdout",
     "output_type": "stream",
     "text": [
      "<class 'list'>\n"
     ]
    }
   ],
   "source": [
    "print(type(a))"
   ]
  },
  {
   "cell_type": "code",
   "execution_count": 4,
   "id": "05a57ef8",
   "metadata": {},
   "outputs": [
    {
     "data": {
      "text/plain": [
       "[4, 5, 6]"
      ]
     },
     "execution_count": 4,
     "metadata": {},
     "output_type": "execute_result"
    }
   ],
   "source": [
    "a[1]"
   ]
  },
  {
   "cell_type": "code",
   "execution_count": 5,
   "id": "a4733ba5",
   "metadata": {},
   "outputs": [
    {
     "name": "stdout",
     "output_type": "stream",
     "text": [
      "[1, 2, 3]\n"
     ]
    }
   ],
   "source": [
    "a=[[1,2,3],[4,5,6],[7,8,9]]\n",
    "print(a[0])"
   ]
  },
  {
   "cell_type": "code",
   "execution_count": 8,
   "id": "394e83eb",
   "metadata": {},
   "outputs": [
    {
     "name": "stdout",
     "output_type": "stream",
     "text": [
      "9\n"
     ]
    }
   ],
   "source": [
    "a=[[1,2,3],[4,5,6],[7,8,9]]\n",
    "print(a[2][2])"
   ]
  },
  {
   "cell_type": "code",
   "execution_count": 10,
   "id": "535b24f6",
   "metadata": {},
   "outputs": [
    {
     "name": "stdout",
     "output_type": "stream",
     "text": [
      "[['Ram', 34, 'Kathmandu'], ['Shyam', 56, 'Lalitpur'], ['Hari', 45, 'Bhaktapur']]\n"
     ]
    }
   ],
   "source": [
    "a=[[\"Ram\",34,\"Kathmandu\"],[\"Shyam\",56,\"Lalitpur\"],['Hari',45,'Bhaktapur']]\n",
    "print(a)"
   ]
  },
  {
   "cell_type": "code",
   "execution_count": 12,
   "id": "22130ef7",
   "metadata": {},
   "outputs": [
    {
     "name": "stdout",
     "output_type": "stream",
     "text": [
      "Enter n=3\n",
      "Enter name=Ram\n",
      "Enter age=23\n",
      "Enter add=Bhaktapur\n",
      "Enter name=Krishma\n",
      "Enter age=12\n",
      "Enter add=Shksl\n",
      "Enter name=Teja\n",
      "Enter age=13\n",
      "Enter add=kdws\n",
      "[['Ram', 23, 'Bhaktapur'], ['Krishma', 12, 'Shksl'], ['Teja', 13, 'kdws']]\n"
     ]
    }
   ],
   "source": [
    "a=[]\n",
    "n=int(input(\"Enter n=\"))\n",
    "for i in range(n):\n",
    "    name=input(\"Enter name=\")\n",
    "    age=int(input(\"Enter age=\"))\n",
    "    add=input(\"Enter add=\")\n",
    "    i=[name,age,add]\n",
    "    a.append(i)\n",
    "print(a)"
   ]
  },
  {
   "cell_type": "code",
   "execution_count": 14,
   "id": "71ffac57",
   "metadata": {},
   "outputs": [
    {
     "data": {
      "text/plain": [
       "[['Ram', 34, 'Kathmandu'], ['Hari', 45, 'Bhaktapur']]"
      ]
     },
     "execution_count": 14,
     "metadata": {},
     "output_type": "execute_result"
    }
   ],
   "source": [
    "a=[[\"Ram\",34,\"Kathmandu\"],[\"Shyam\",56,\"Lalitpur\"],['Hari',45,'Bhaktapur']]\n",
    "del a[1]\n",
    "a"
   ]
  },
  {
   "cell_type": "code",
   "execution_count": 15,
   "id": "ed5dbb75",
   "metadata": {},
   "outputs": [
    {
     "data": {
      "text/plain": [
       "[['Ram', 23, 'akak'], ['Shyam', 56, 'Lalitpur'], ['Hari', 45, 'Bhaktapur']]"
      ]
     },
     "execution_count": 15,
     "metadata": {},
     "output_type": "execute_result"
    }
   ],
   "source": [
    "a=[[\"Ram\",34,\"Kathmandu\"],[\"Shyam\",56,\"Lalitpur\"],['Hari',45,'Bhaktapur']]\n",
    "a[0]=[\"Ram\",23,\"akak\"]\n",
    "a"
   ]
  },
  {
   "cell_type": "code",
   "execution_count": 16,
   "id": "8982f708",
   "metadata": {},
   "outputs": [
    {
     "name": "stdout",
     "output_type": "stream",
     "text": [
      "['Ram', 34, 'Kathmandu']\n",
      "['Shyam', 56, 'Lalitpur']\n",
      "['Hari', 45, 'Bhaktapur']\n"
     ]
    }
   ],
   "source": [
    "a=[[\"Ram\",34,\"Kathmandu\"],[\"Shyam\",56,\"Lalitpur\"],['Hari',45,'Bhaktapur']]\n",
    "for i in a:\n",
    "    print(i)"
   ]
  },
  {
   "cell_type": "code",
   "execution_count": 18,
   "id": "14e8fbf1",
   "metadata": {},
   "outputs": [
    {
     "name": "stdout",
     "output_type": "stream",
     "text": [
      "Enter name:Ram\n",
      "['Ram', 34, 'Kathmandu']\n",
      "['Ram', 45, 'Bhaktapur']\n"
     ]
    }
   ],
   "source": [
    "a=[[\"Ram\",34,\"Kathmandu\"],[\"Shyam\",56,\"Lalitpur\"],['Ram',45,'Bhaktapur']]\n",
    "search=input(\"Enter name:\")\n",
    "for i in a:\n",
    "    if search in i:\n",
    "        print(i)"
   ]
  },
  {
   "cell_type": "code",
   "execution_count": 37,
   "id": "b54885b0",
   "metadata": {},
   "outputs": [
    {
     "name": "stdout",
     "output_type": "stream",
     "text": [
      "Enter name:e\n",
      "There are 0 e\n"
     ]
    }
   ],
   "source": [
    "a=[[\"Ram\",34,\"Kathmandu\"],[\"Shyam\",56,\"Lalitpur\"],['Ram',45,'Bhaktapur']]\n",
    "search=input(\"Enter name:\")\n",
    "c=0\n",
    "for i in a:\n",
    "    if search in a:\n",
    "        c=c+1\n",
    "        print(i)\n",
    "print(f\"There are {c}\",search)"
   ]
  },
  {
   "cell_type": "code",
   "execution_count": 25,
   "id": "02229218",
   "metadata": {},
   "outputs": [
    {
     "name": "stdout",
     "output_type": "stream",
     "text": [
      "Enter row:2\n",
      "Enter column:3\n",
      "Enter x2\n",
      "Enter x3\n",
      "Enter x2\n",
      "Enter x3\n",
      "Enter x2\n",
      "Enter x3\n",
      "[['2', '3', '2'], ['3', '2', '3']]\n"
     ]
    }
   ],
   "source": [
    "l=[]\n",
    "r=int(input(\"Enter row:\"))\n",
    "c=int(input(\"Enter column:\"))\n",
    "for i in range(r):\n",
    "    y=[]\n",
    "    for j in range(c):\n",
    "        x=input(\"Enter x\")\n",
    "        y.append(x)\n",
    "    l.append(y)\n",
    "print(l)"
   ]
  },
  {
   "cell_type": "code",
   "execution_count": 26,
   "id": "a54cfeba",
   "metadata": {
    "scrolled": false
   },
   "outputs": [
    {
     "data": {
      "text/plain": [
       "[0, 1, 2, 3, 4]"
      ]
     },
     "execution_count": 26,
     "metadata": {},
     "output_type": "execute_result"
    }
   ],
   "source": [
    "a=[i for i in range(5)]\n",
    "a"
   ]
  },
  {
   "cell_type": "code",
   "execution_count": 27,
   "id": "09fe0212",
   "metadata": {},
   "outputs": [
    {
     "data": {
      "text/plain": [
       "[1, 2, 3, 4, 5, 6, 7, 8, 9, 10, 11, 12, 13, 14, 15, 16, 17, 18, 19, 20]"
      ]
     },
     "execution_count": 27,
     "metadata": {},
     "output_type": "execute_result"
    }
   ],
   "source": [
    "a=[i for i in range(1,21)]\n",
    "a"
   ]
  },
  {
   "cell_type": "code",
   "execution_count": 28,
   "id": "5dc3a064",
   "metadata": {},
   "outputs": [
    {
     "data": {
      "text/plain": [
       "[2, 4, 6, 8, 10, 12, 14, 16, 18, 20]"
      ]
     },
     "execution_count": 28,
     "metadata": {},
     "output_type": "execute_result"
    }
   ],
   "source": [
    "a=[i for i in range(1,21) if i%2==0]\n",
    "a"
   ]
  },
  {
   "cell_type": "code",
   "execution_count": 33,
   "id": "157079a2",
   "metadata": {
    "scrolled": false
   },
   "outputs": [
    {
     "data": {
      "text/plain": [
       "['APPLE']"
      ]
     },
     "execution_count": 33,
     "metadata": {},
     "output_type": "execute_result"
    }
   ],
   "source": [
    "a=[\"APPLE\",\"Dog\",\"cat\",\"ball\"]\n",
    "b=[i for i in a if i.isupper()]\n",
    "b"
   ]
  },
  {
   "cell_type": "code",
   "execution_count": 2,
   "id": "343f172f",
   "metadata": {},
   "outputs": [
    {
     "name": "stdout",
     "output_type": "stream",
     "text": [
      "Enter the value of n2\n",
      "Enter product namesws\n",
      "Enter product price:11\n",
      "Enter product quantity:22\n",
      "Enter product namedss\n",
      "Enter product price:2121\n",
      "Enter product quantity:22\n",
      "[['sws', 11, 22, 242], ['dss', 2121, 22, 46662]]\n"
     ]
    }
   ],
   "source": [
    "#wap to create a billing system using list inside list\n",
    "l=[]\n",
    "n=int(input(\"Enter the value of n\"))\n",
    "for i in range(n):\n",
    "    a=input(\"Enter product name\")\n",
    "    price=int(input(\"Enter product price:\"))\n",
    "    quantity=int(input(\"Enter product quantity:\"))\n",
    "    total=price*quantity\n",
    "    info=[a,price,quantity,total]\n",
    "    l.append(info)\n",
    "print(l)"
   ]
  },
  {
   "cell_type": "code",
   "execution_count": null,
   "id": "2ac10aaf",
   "metadata": {},
   "outputs": [],
   "source": []
  }
 ],
 "metadata": {
  "kernelspec": {
   "display_name": "Python 3 (ipykernel)",
   "language": "python",
   "name": "python3"
  },
  "language_info": {
   "codemirror_mode": {
    "name": "ipython",
    "version": 3
   },
   "file_extension": ".py",
   "mimetype": "text/x-python",
   "name": "python",
   "nbconvert_exporter": "python",
   "pygments_lexer": "ipython3",
   "version": "3.9.12"
  }
 },
 "nbformat": 4,
 "nbformat_minor": 5
}
