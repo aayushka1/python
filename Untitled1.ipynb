{
 "cells": [
  {
   "cell_type": "code",
   "execution_count": 1,
   "id": "20a9a995",
   "metadata": {},
   "outputs": [],
   "source": [
    "#str method\n"
   ]
  },
  {
   "cell_type": "code",
   "execution_count": 9,
   "id": "24330f9e",
   "metadata": {},
   "outputs": [
    {
     "name": "stdout",
     "output_type": "stream",
     "text": [
      "Ram\n",
      "Ram\n"
     ]
    },
    {
     "data": {
      "text/plain": [
       "'Ram'"
      ]
     },
     "execution_count": 9,
     "metadata": {},
     "output_type": "execute_result"
    }
   ],
   "source": [
    "class Info:\n",
    "    def __init__(self,name,age):\n",
    "        self.name=name\n",
    "        self.age=age\n",
    "         \n",
    "    def __str__(self):\n",
    "        return self.name\n",
    "obj=Info(\"Ram\",45)\n",
    "print(obj)\n",
    "print(obj.__str__())\n",
    "str(obj)"
   ]
  },
  {
   "cell_type": "code",
   "execution_count": 10,
   "id": "3e1c185e",
   "metadata": {},
   "outputs": [
    {
     "name": "stdout",
     "output_type": "stream",
     "text": [
      "45\n",
      "45\n"
     ]
    },
    {
     "data": {
      "text/plain": [
       "'45'"
      ]
     },
     "execution_count": 10,
     "metadata": {},
     "output_type": "execute_result"
    }
   ],
   "source": [
    "class Info:\n",
    "    def __init__(self,name,age):\n",
    "        self.name=name\n",
    "        self.age=age\n",
    "         \n",
    "    def __str__(self):\n",
    "        return str(self.age)\n",
    "obj=Info(\"Ram\",45)\n",
    "print(obj)\n",
    "print(obj.__str__())\n",
    "str(obj)"
   ]
  },
  {
   "cell_type": "code",
   "execution_count": 13,
   "id": "c0a4deb9",
   "metadata": {},
   "outputs": [
    {
     "name": "stdout",
     "output_type": "stream",
     "text": [
      "1 5\n"
     ]
    }
   ],
   "source": [
    "class Point:\n",
    "    def __init__(self,x=0,y=0):\n",
    "        self.x=x\n",
    "        self.y=y\n",
    "    def __str__(self):\n",
    "        return f\"{self.x} {self.y}\"\n",
    "    \n",
    "    def __add__(self,other):\n",
    "        x=self.x+other.x\n",
    "        y=self.y+other.y\n",
    "        return Point(x,y)\n",
    "p1=Point(2,3)\n",
    "p2=Point(-1,2)\n",
    "print(p1+p2)"
   ]
  },
  {
   "cell_type": "code",
   "execution_count": 21,
   "id": "207fb599",
   "metadata": {},
   "outputs": [
    {
     "name": "stdout",
     "output_type": "stream",
     "text": [
      "This is init method 200\n",
      "This is init method 500\n",
      "This is init method 800\n",
      "This is add method 200\n",
      "This is init method 700\n",
      "This is add method 700\n",
      "This is init method 1500\n",
      "This is str method 1500\n",
      "1500\n"
     ]
    }
   ],
   "source": [
    "class Point:\n",
    "    def __init__(self,x=0):\n",
    "        self.x=x\n",
    "        print(\"This is init method\",self.x)\n",
    "       \n",
    "    \n",
    "    def __str__(self):\n",
    "        print(\"This is str method\",self.x)\n",
    "        return f\"{self.x}\"\n",
    "    \n",
    "    def __add__(self,other):\n",
    "        x=self.x+other.x\n",
    "        print(\"This is add method\",self.x)\n",
    "        return Point(x)\n",
    "p1=Point(200)\n",
    "p2=Point(500)\n",
    "p3=Point(800)\n",
    "print(p1+p2+p3)"
   ]
  },
  {
   "cell_type": "code",
   "execution_count": 23,
   "id": "8e74992c",
   "metadata": {},
   "outputs": [
    {
     "name": "stdout",
     "output_type": "stream",
     "text": [
      "Parrot can fly\n",
      "Penguin cant fly\n",
      "Parrot cant swim\n",
      "Penguin can swim\n"
     ]
    }
   ],
   "source": [
    "class Parrot:\n",
    "    def fly(self):\n",
    "        print(\"Parrot can fly\")\n",
    "    def swim(self):\n",
    "        print(\"Parrot cant swim\")\n",
    "class Penguin:\n",
    "    def fly(self):\n",
    "        print(\"Penguin cant fly\")\n",
    "    def swim(self):\n",
    "        print(\"Penguin can swim\")\n",
    "#common interface\n",
    "def flying_test(bird):\n",
    "    bird.fly()\n",
    "#instantiate objects\n",
    "blu=Parrot()\n",
    "peggy=Penguin()\n",
    "\n",
    "#passing the object\n",
    "flying_test(blu)\n",
    "flying_test(peggy)\n",
    "#common interface\n",
    "def swimming_test(bird):\n",
    "    bird.swim()\n",
    "\n",
    "#passing the object\n",
    "swimming_test(blu)\n",
    "swimming_test(peggy)"
   ]
  },
  {
   "cell_type": "code",
   "execution_count": null,
   "id": "397940e9",
   "metadata": {},
   "outputs": [],
   "source": []
  }
 ],
 "metadata": {
  "kernelspec": {
   "display_name": "Python 3 (ipykernel)",
   "language": "python",
   "name": "python3"
  },
  "language_info": {
   "codemirror_mode": {
    "name": "ipython",
    "version": 3
   },
   "file_extension": ".py",
   "mimetype": "text/x-python",
   "name": "python",
   "nbconvert_exporter": "python",
   "pygments_lexer": "ipython3",
   "version": "3.9.12"
  }
 },
 "nbformat": 4,
 "nbformat_minor": 5
}
