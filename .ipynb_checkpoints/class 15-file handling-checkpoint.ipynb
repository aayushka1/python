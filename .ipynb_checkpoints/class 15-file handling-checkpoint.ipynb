{
 "cells": [
  {
   "cell_type": "code",
   "execution_count": 1,
   "id": "7357fc72",
   "metadata": {},
   "outputs": [],
   "source": [
    "#file=open('<file name>','<modes>')\n",
    "#file.close()\n",
    "#with open(<'file_name>','<mode>') as file:\n",
    "#<operations>"
   ]
  },
  {
   "cell_type": "code",
   "execution_count": 2,
   "id": "09e9892f",
   "metadata": {},
   "outputs": [],
   "source": [
    "#modes\n",
    "#read:r\n",
    "#create:x\n",
    "#write:w\n",
    "#append:a"
   ]
  },
  {
   "cell_type": "code",
   "execution_count": 4,
   "id": "d45dc08f",
   "metadata": {},
   "outputs": [
    {
     "name": "stdout",
     "output_type": "stream",
     "text": [
      "the file is already there\n"
     ]
    }
   ],
   "source": [
    "try:\n",
    "    file=open(\"Data.txt\",\"x\")\n",
    "    file.close()\n",
    "except:\n",
    "    print(\"the file is already there\")"
   ]
  },
  {
   "cell_type": "code",
   "execution_count": 12,
   "id": "91c6fd6d",
   "metadata": {},
   "outputs": [
    {
     "name": "stdout",
     "output_type": "stream",
     "text": [
      "1.Hello world\n",
      "2.Hello world\n",
      "3.Hello world\n",
      "4.Hello world\n",
      "5.Hello world\n",
      "6.Hello world\n",
      "<class 'str'>\n"
     ]
    }
   ],
   "source": [
    "file=open('Data.txt','r')\n",
    "x=file.read()\n",
    "print(x)\n",
    "print(type(x))\n",
    "file.close()"
   ]
  },
  {
   "cell_type": "code",
   "execution_count": 13,
   "id": "815f636c",
   "metadata": {},
   "outputs": [
    {
     "data": {
      "text/plain": [
       "['1.Hello world',\n",
       " '2.Hello world',\n",
       " '3.Hello world',\n",
       " '4.Hello world',\n",
       " '5.Hello world',\n",
       " '6.Hello world']"
      ]
     },
     "execution_count": 13,
     "metadata": {},
     "output_type": "execute_result"
    }
   ],
   "source": [
    "x.split('\\n')"
   ]
  },
  {
   "cell_type": "code",
   "execution_count": 14,
   "id": "07579ed0",
   "metadata": {},
   "outputs": [],
   "source": [
    "file=open('Data.txt','w')\n",
    "file.write(\"Hello world I am Python\")\n",
    "file.close()"
   ]
  },
  {
   "cell_type": "code",
   "execution_count": 15,
   "id": "bf5c7404",
   "metadata": {},
   "outputs": [],
   "source": [
    "file=open('Datas.txt','w')\n",
    "file.write(\"Hello world I am Python\")\n",
    "file.close()"
   ]
  },
  {
   "cell_type": "code",
   "execution_count": 19,
   "id": "cc23f75e",
   "metadata": {},
   "outputs": [
    {
     "name": "stdout",
     "output_type": "stream",
     "text": [
      "Enter n:3\n",
      "Enter nameaayushka\n",
      "Enter price:212\n",
      "Enter quantity:21\n",
      "Enter nameanu\n",
      "Enter price:2345\n",
      "Enter quantity:21\n",
      "Enter namekritika\n",
      "Enter price:345\n",
      "Enter quantity:45\n"
     ]
    }
   ],
   "source": [
    "bill=\"\"\n",
    "n=int(input(\"Enter n:\"))\n",
    "for i in range(n):\n",
    "    name=input(\"Enter name\")\n",
    "    price=int(input(\"Enter price:\"))\n",
    "    quantity=int(input(\"Enter quantity:\"))\n",
    "    total=price*quantity\n",
    "    bill=bill+f\"{name} {price} {quantity} {total}\\n\"\n",
    "file=open('Datas.txt','w')\n",
    "file.write(bill)\n",
    "file.close()    "
   ]
  },
  {
   "cell_type": "code",
   "execution_count": 20,
   "id": "e4538762",
   "metadata": {},
   "outputs": [
    {
     "name": "stdout",
     "output_type": "stream",
     "text": [
      "Enter n:3\n",
      "Enter nameTejaswee\n",
      "Enter price:12\n",
      "Enter quantity:12\n",
      "Enter nameanu\n",
      "Enter price:12\n",
      "Enter quantity:12\n",
      "Enter nameqhwsiqwiu\n",
      "Enter price:34543\n",
      "Enter quantity:34\n"
     ]
    }
   ],
   "source": [
    "bill=\"\"\n",
    "n=int(input(\"Enter n:\"))\n",
    "for i in range(n):\n",
    "    name=input(\"Enter name:\")\n",
    "    price=int(input(\"Enter price:\"))\n",
    "    quantity=int(input(\"Enter quantity:\"))\n",
    "    total=price*quantity\n",
    "    bill=bill+f\"{name},{price},{quantity},{total}\\n\"\n",
    "file=open('Data.csv','w')\n",
    "file.write(bill)\n",
    "file.close()    "
   ]
  },
  {
   "cell_type": "code",
   "execution_count": 36,
   "id": "827405d9",
   "metadata": {},
   "outputs": [
    {
     "name": "stdout",
     "output_type": "stream",
     "text": [
      "Enter n:3\n",
      "Enter name:sddsdas\n",
      "Enter price:21\n",
      "Enter quantity:213\n",
      "Enter name:sadas\n",
      "Enter price:234\n",
      "Enter quantity:23\n",
      "Enter name:dsfsf\n",
      "Enter price:434\n",
      "Enter quantity:34\n"
     ]
    }
   ],
   "source": [
    "bill=\"\"\n",
    "n=int(input(\"Enter n:\"))\n",
    "for i in range(n):\n",
    "    name=input(\"Enter name:\")\n",
    "    price=int(input(\"Enter price:\"))\n",
    "    quantity=int(input(\"Enter quantity:\"))\n",
    "    total=price*quantity\n",
    "    bill=bill+f\"{name},{price},{quantity},{total}\\n\"\n",
    "file=open('Data.csv','w')\n",
    "file.write('Name,Price,Quantity,Total\\n')\n",
    "file.write(bill)\n",
    "file.close()    "
   ]
  },
  {
   "cell_type": "code",
   "execution_count": 37,
   "id": "e8418f71",
   "metadata": {},
   "outputs": [
    {
     "name": "stdout",
     "output_type": "stream",
     "text": [
      "Name,Price,Quantity,Total\n",
      "sddsdas,21,213,4473\n",
      "sadas,234,23,5382\n",
      "dsfsf,434,34,14756\n",
      "\n"
     ]
    }
   ],
   "source": [
    "file=open('Data.csv','r')\n",
    "x=file.read()\n",
    "print(x)\n",
    "file.close()"
   ]
  },
  {
   "cell_type": "code",
   "execution_count": 38,
   "id": "7a2f764e",
   "metadata": {},
   "outputs": [
    {
     "data": {
      "text/plain": [
       "['Name,Price,Quantity,Total',\n",
       " 'sddsdas,21,213,4473',\n",
       " 'sadas,234,23,5382',\n",
       " 'dsfsf,434,34,14756']"
      ]
     },
     "execution_count": 38,
     "metadata": {},
     "output_type": "execute_result"
    }
   ],
   "source": [
    "y=x.split('\\n')[0:-1]\n",
    "y"
   ]
  },
  {
   "cell_type": "code",
   "execution_count": 39,
   "id": "c146a4a1",
   "metadata": {},
   "outputs": [
    {
     "data": {
      "text/plain": [
       "[['Name', 'Price', 'Quantity', 'Total'],\n",
       " ['sddsdas', '21', '213', '4473'],\n",
       " ['sadas', '234', '23', '5382'],\n",
       " ['dsfsf', '434', '34', '14756']]"
      ]
     },
     "execution_count": 39,
     "metadata": {},
     "output_type": "execute_result"
    }
   ],
   "source": [
    "bills=[]\n",
    "for i in y:\n",
    "    bills.append(i.split(\",\"))\n",
    "bills"
   ]
  },
  {
   "cell_type": "code",
   "execution_count": 40,
   "id": "18ec57ce",
   "metadata": {},
   "outputs": [
    {
     "data": {
      "text/plain": [
       "13419"
      ]
     },
     "execution_count": 40,
     "metadata": {},
     "output_type": "execute_result"
    }
   ],
   "source": [
    "all_total=0\n",
    "for i in range(1,len(bills)):\n",
    "    z=int(bills[1][3])\n",
    "    all_total=all_total+z\n",
    "all_total"
   ]
  },
  {
   "cell_type": "code",
   "execution_count": null,
   "id": "c71283c4",
   "metadata": {},
   "outputs": [],
   "source": []
  }
 ],
 "metadata": {
  "kernelspec": {
   "display_name": "Python 3 (ipykernel)",
   "language": "python",
   "name": "python3"
  },
  "language_info": {
   "codemirror_mode": {
    "name": "ipython",
    "version": 3
   },
   "file_extension": ".py",
   "mimetype": "text/x-python",
   "name": "python",
   "nbconvert_exporter": "python",
   "pygments_lexer": "ipython3",
   "version": "3.9.12"
  }
 },
 "nbformat": 4,
 "nbformat_minor": 5
}
