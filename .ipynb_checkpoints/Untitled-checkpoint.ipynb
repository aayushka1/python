{
 "cells": [
  {
   "cell_type": "code",
   "execution_count": null,
   "id": "c6edf763",
   "metadata": {},
   "outputs": [],
   "source": [
    "bill=''\n",
    "n=int(input(\"Enter n:\"))\n",
    "def billing():\n",
    "    global bill\n",
    "    product=input(\"Enter product name:\")\n",
    "    price=input(\"Enter price\":)    \n",
    "    quan=input(\"Enter qunatity:\")\n",
    "    total=price*quan\n",
    "    info=\"f{product} {price} {quan} {total}\\n\"\n",
    "    bill=bill+info\n",
    "for i in range(n):\n",
    "    billing()\n",
    "print (ball)"
   ]
  },
  {
   "cell_type": "code",
   "execution_count": null,
   "id": "96622547",
   "metadata": {},
   "outputs": [],
   "source": [
    "bill=''\n",
    "n=int(input(\"Enter n:\"))\n",
    "def billing():\n",
    "    global bill\n",
    "    info=f\"{product} {price} {quan} {total}\\n\"\n",
    "    bill=bill+info\n",
    "for i in range(n):\n",
    "    product=input(\"Enter product name:\")\n",
    "    price=int(input(\"Enter price\"))  \n",
    "    quan=int(input(\"Enter quantity:\"))\n",
    "    total=price*quan\n",
    "    billing(product,price,quan,total)\n",
    "print(bill)"
   ]
  },
  {
   "cell_type": "code",
   "execution_count": null,
   "id": "b5bdd80c",
   "metadata": {},
   "outputs": [],
   "source": [
    "bill=''\n",
    "grand_total=0\n",
    "n=int(input(\"Enter n:\"))\n",
    "def billing(product,price,quan,total):\n",
    "    global bill\n",
    "    info=f\"{product} {price} {quan} {total}\\n\"\n",
    "    bill=bill+info\n",
    "    grand_total=grand_total+total\n",
    "for i in range(n):\n",
    "    product=input(\"Enter product name:\")\n",
    "    price=int(input(\"Enter price\"))  \n",
    "    quan=int(input(\"Enter quantity:\"))\n",
    "    total=price*quan\n",
    "    billing(product,price,quan,total)\n",
    "print(bill)\n",
    "print(grand_total)"
   ]
  }
 ],
 "metadata": {
  "kernelspec": {
   "display_name": "Python 3 (ipykernel)",
   "language": "python",
   "name": "python3"
  },
  "language_info": {
   "codemirror_mode": {
    "name": "ipython",
    "version": 3
   },
   "file_extension": ".py",
   "mimetype": "text/x-python",
   "name": "python",
   "nbconvert_exporter": "python",
   "pygments_lexer": "ipython3",
   "version": "3.9.12"
  }
 },
 "nbformat": 4,
 "nbformat_minor": 5
}
