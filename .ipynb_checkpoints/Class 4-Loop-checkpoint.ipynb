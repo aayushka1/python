{
 "cells": [
  {
   "cell_type": "code",
   "execution_count": 1,
   "id": "e5555927",
   "metadata": {},
   "outputs": [
    {
     "data": {
      "text/plain": [
       "range(0, 5)"
      ]
     },
     "execution_count": 1,
     "metadata": {},
     "output_type": "execute_result"
    }
   ],
   "source": [
    "# two types for and while\n",
    "#range(5) 0,1,2,3,4\n",
    "#range(1,5)1,2,3,4\n",
    "#range(1,5,2)1,3"
   ]
  },
  {
   "cell_type": "code",
   "execution_count": 11,
   "id": "e6763612",
   "metadata": {},
   "outputs": [
    {
     "name": "stdout",
     "output_type": "stream",
     "text": [
      "0\n",
      "1\n",
      "2\n",
      "3\n",
      "4\n"
     ]
    }
   ],
   "source": [
    "for i in range(5):\n",
    "    print(i)"
   ]
  },
  {
   "cell_type": "code",
   "execution_count": 9,
   "id": "3f30e452",
   "metadata": {},
   "outputs": [
    {
     "name": "stdout",
     "output_type": "stream",
     "text": [
      "0\n",
      "1\n",
      "2\n",
      "3\n",
      "4\n"
     ]
    }
   ],
   "source": [
    "for i in range(5):\n",
    "    print(i)"
   ]
  },
  {
   "cell_type": "code",
   "execution_count": 7,
   "id": "7165393a",
   "metadata": {},
   "outputs": [
    {
     "name": "stdout",
     "output_type": "stream",
     "text": [
      "1\n",
      "2\n",
      "3\n",
      "4\n"
     ]
    }
   ],
   "source": [
    "for i in range(1,5):\n",
    "    print(i)"
   ]
  },
  {
   "cell_type": "code",
   "execution_count": 10,
   "id": "02053654",
   "metadata": {},
   "outputs": [
    {
     "name": "stdout",
     "output_type": "stream",
     "text": [
      "1\n",
      "3\n",
      "5\n",
      "7\n",
      "9\n"
     ]
    }
   ],
   "source": [
    "for i in range(1,10,2):\n",
    "    print(i)"
   ]
  },
  {
   "cell_type": "code",
   "execution_count": 14,
   "id": "c62d450e",
   "metadata": {},
   "outputs": [
    {
     "name": "stdout",
     "output_type": "stream",
     "text": [
      "0 HEllo WOrld\n",
      "1 HEllo WOrld\n",
      "2 HEllo WOrld\n",
      "3 HEllo WOrld\n",
      "4 HEllo WOrld\n"
     ]
    }
   ],
   "source": [
    "for i in range(5):\n",
    "    print(i,\"HEllo WOrld\")"
   ]
  },
  {
   "cell_type": "code",
   "execution_count": 15,
   "id": "5745891f",
   "metadata": {},
   "outputs": [
    {
     "name": "stdout",
     "output_type": "stream",
     "text": [
      "hellohellohellohello\n"
     ]
    }
   ],
   "source": [
    "print(\"hello\"*4)"
   ]
  },
  {
   "cell_type": "code",
   "execution_count": 16,
   "id": "ab96f363",
   "metadata": {},
   "outputs": [
    {
     "name": "stdout",
     "output_type": "stream",
     "text": [
      "5\n",
      "10\n",
      "15\n",
      "20\n",
      "25\n",
      "30\n",
      "35\n",
      "40\n",
      "45\n",
      "50\n"
     ]
    }
   ],
   "source": [
    "for i in range(1,11):\n",
    "    print(5*i)"
   ]
  },
  {
   "cell_type": "code",
   "execution_count": 17,
   "id": "51e3291c",
   "metadata": {},
   "outputs": [
    {
     "name": "stdout",
     "output_type": "stream",
     "text": [
      "Enter the value of n:3\n",
      "3 * 1 = 3\n",
      "3 * 2 = 6\n",
      "3 * 3 = 9\n",
      "3 * 4 = 12\n",
      "3 * 5 = 15\n",
      "3 * 6 = 18\n",
      "3 * 7 = 21\n",
      "3 * 8 = 24\n",
      "3 * 9 = 27\n",
      "3 * 10 = 30\n"
     ]
    }
   ],
   "source": [
    "n=int(input(\"Enter the value of n:\"))\n",
    "for i in range(1,11):\n",
    "    print(n,\"*\",i,\"=\",n*i)\n"
   ]
  },
  {
   "cell_type": "code",
   "execution_count": 18,
   "id": "89136c9d",
   "metadata": {},
   "outputs": [
    {
     "name": "stdout",
     "output_type": "stream",
     "text": [
      "Enter the value of x2\n",
      "2\n",
      "Enter the value of x2\n",
      "2\n"
     ]
    }
   ],
   "source": [
    "for i in range(2):\n",
    "    x=input(\"Enter the value of x\")\n",
    "    print(x)"
   ]
  },
  {
   "cell_type": "code",
   "execution_count": 23,
   "id": "3356d930",
   "metadata": {},
   "outputs": [
    {
     "name": "stdout",
     "output_type": "stream",
     "text": [
      "Enter the value of n:4\n",
      "Enter the value of x:3\n",
      "Enter the value of x:3\n",
      "Enter the value of x:3\n",
      "Enter the value of x:3\n",
      "12\n"
     ]
    }
   ],
   "source": [
    "s=0\n",
    "n=int(input(\"Enter the value of n:\"))\n",
    "for i in range(n):\n",
    "    x=int(input(\"Enter the value of x:\"))\n",
    "    s=s+x\n",
    "print(s)\n"
   ]
  },
  {
   "cell_type": "markdown",
   "id": "861a3438",
   "metadata": {},
   "source": []
  },
  {
   "cell_type": "code",
   "execution_count": 29,
   "id": "c96bb3b8",
   "metadata": {},
   "outputs": [
    {
     "name": "stdout",
     "output_type": "stream",
     "text": [
      "Enter the value of n:2\n",
      "Enter the value of x:w\n",
      "Enter the value of x:w\n",
      "w w \n"
     ]
    }
   ],
   "source": [
    "s=str()\n",
    "n=int(input(\"Enter the value of n:\"))\n",
    "for i in range(n):\n",
    "    x=input(\"Enter the value of x:\")\n",
    "    s=s+x+\" \"\n",
    "print(s)"
   ]
  },
  {
   "cell_type": "raw",
   "id": "1c395f2c",
   "metadata": {},
   "source": [
    "\n"
   ]
  },
  {
   "cell_type": "code",
   "execution_count": 31,
   "id": "c51bd0ad",
   "metadata": {},
   "outputs": [
    {
     "name": "stdout",
     "output_type": "stream",
     "text": [
      "Enter the value of n:2\n",
      "Enter name:sed\n",
      "Enter phone:2323233232\n",
      "Enter name:dcddd\n",
      "Enter phone:2232323\n",
      "sed 2323233232\n",
      "dcddd 2232323\n",
      "\n"
     ]
    }
   ],
   "source": [
    "s=str()\n",
    "n=int(input(\"Enter the value of n:\"))\n",
    "for i in range(n):\n",
    "    name=input(\"Enter name:\")\n",
    "    phone=int(input(\"Enter phone:\"))\n",
    "    s=s+name+\" \"+str(phone)+\"\\n\"\n",
    "print(s)"
   ]
  },
  {
   "cell_type": "code",
   "execution_count": 33,
   "id": "12ac3200",
   "metadata": {},
   "outputs": [
    {
     "name": "stdout",
     "output_type": "stream",
     "text": [
      "Enter the value of n5\n",
      "120\n"
     ]
    }
   ],
   "source": [
    "fact=1\n",
    "n=int(input(\"Enter the value of n\"))\n",
    "for i in range(1,n+1):\n",
    "    fact=fact*i\n",
    "    \n",
    "print(fact)"
   ]
  },
  {
   "cell_type": "code",
   "execution_count": 36,
   "id": "dadc93c4",
   "metadata": {},
   "outputs": [
    {
     "name": "stdout",
     "output_type": "stream",
     "text": [
      "P\n",
      "y\n",
      "t\n",
      "h\n",
      "o\n",
      "n\n",
      "n\n",
      "n\n",
      "n\n",
      "n\n",
      "n\n",
      "n\n",
      "n\n",
      "n\n",
      "n\n",
      "n\n",
      "n\n",
      "n\n",
      "n\n",
      "n\n",
      "n\n",
      "n\n",
      "n\n",
      "n\n",
      "n\n",
      "n\n",
      "n\n",
      "n\n",
      "n\n",
      "n\n",
      "n\n",
      "n\n",
      "n\n",
      "n\n",
      "n\n",
      "n\n"
     ]
    }
   ],
   "source": [
    "a=\"Pythonnnnnnnnnnnnnnnnnnnnnnnnnnnnnnn\"\n",
    "for i in a:\n",
    "    print(i)"
   ]
  },
  {
   "cell_type": "code",
   "execution_count": 40,
   "id": "cafe54bf",
   "metadata": {},
   "outputs": [
    {
     "name": "stdout",
     "output_type": "stream",
     "text": [
      "P Hello World...y Hello World...t Hello World...h Hello World...o Hello World...n Hello World...n Hello World...n Hello World..."
     ]
    }
   ],
   "source": [
    "a=\"Pythonnn\"\n",
    "for i in a:\n",
    "    print(i,\"Hello World\",end=\"...\")"
   ]
  },
  {
   "cell_type": "code",
   "execution_count": 45,
   "id": "2eb4b34c",
   "metadata": {},
   "outputs": [
    {
     "name": "stdout",
     "output_type": "stream",
     "text": [
      "8\n",
      "P\n",
      "y\n",
      "t\n",
      "h\n",
      "o\n",
      "n\n",
      "n\n",
      "n\n"
     ]
    }
   ],
   "source": [
    "a=\"Pythonnn\"\n",
    "l=len(a)\n",
    "print(l)\n",
    "for i in range(l):\n",
    "    print(a[i])"
   ]
  },
  {
   "cell_type": "markdown",
   "id": "17231716",
   "metadata": {},
   "source": []
  },
  {
   "cell_type": "code",
   "execution_count": 46,
   "id": "9134c81e",
   "metadata": {},
   "outputs": [
    {
     "name": "stdout",
     "output_type": "stream",
     "text": [
      "enterswww\n",
      "4\n",
      "s\n",
      "w\n",
      "w\n",
      "w\n"
     ]
    }
   ],
   "source": [
    "a=input(\"enter\")\n",
    "l=len(a)\n",
    "print(l)\n",
    "for i in range(l):\n",
    "    print(a[i])\n",
    "    "
   ]
  },
  {
   "cell_type": "code",
   "execution_count": 50,
   "id": "02f9d3bf",
   "metadata": {},
   "outputs": [
    {
     "name": "stdout",
     "output_type": "stream",
     "text": [
      "enterssssss\n",
      "6\n",
      "s\n",
      "s\n",
      "s\n",
      "s\n",
      "s\n",
      "s\n"
     ]
    }
   ],
   "source": [
    "a=input(\"enter\")\n",
    "l=len(a)\n",
    "print(l)\n",
    "for i in range(l):\n",
    "    print(a[i])\n",
    "    "
   ]
  },
  {
   "cell_type": "code",
   "execution_count": null,
   "id": "1d6a6a00",
   "metadata": {},
   "outputs": [],
   "source": [
    "    "
   ]
  }
 ],
 "metadata": {
  "kernelspec": {
   "display_name": "Python 3 (ipykernel)",
   "language": "python",
   "name": "python3"
  },
  "language_info": {
   "codemirror_mode": {
    "name": "ipython",
    "version": 3
   },
   "file_extension": ".py",
   "mimetype": "text/x-python",
   "name": "python",
   "nbconvert_exporter": "python",
   "pygments_lexer": "ipython3",
   "version": "3.9.12"
  }
 },
 "nbformat": 4,
 "nbformat_minor": 5
}
