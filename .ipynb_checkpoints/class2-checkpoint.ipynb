{
 "cells": [
  {
   "cell_type": "code",
   "execution_count": 1,
   "id": "931238fa",
   "metadata": {},
   "outputs": [
    {
     "name": "stdout",
     "output_type": "stream",
     "text": [
      "10\n",
      "10\n"
     ]
    }
   ],
   "source": [
    "a=input()\n",
    "print(a)"
   ]
  },
  {
   "cell_type": "code",
   "execution_count": 2,
   "id": "6b2589bc",
   "metadata": {},
   "outputs": [
    {
     "name": "stdout",
     "output_type": "stream",
     "text": [
      "Enter a=20\n",
      "20\n",
      "<class 'str'>\n"
     ]
    }
   ],
   "source": [
    "a=input(\"Enter a=\")\n",
    "print(a)\n",
    "print(type(a))"
   ]
  },
  {
   "cell_type": "code",
   "execution_count": 10,
   "id": "e27f005a",
   "metadata": {
    "scrolled": true
   },
   "outputs": [
    {
     "name": "stdout",
     "output_type": "stream",
     "text": [
      "Enter value of p1\n",
      "Enter value of q1\n",
      "Enter value of r1\n",
      "0.01\n"
     ]
    }
   ],
   "source": [
    "a=float(input(\"Enter value of p\"))\n",
    "b=float(input(\"Enter value of q\"))\n",
    "c=float(input(\"Enter value of r\"))\n",
    "i=a*b*c/100\n",
    "print(i)\n",
    "\n",
    "\n",
    "\n"
   ]
  },
  {
   "cell_type": "code",
   "execution_count": 6,
   "id": "b967050e",
   "metadata": {},
   "outputs": [
    {
     "data": {
      "text/plain": [
       "'10'"
      ]
     },
     "execution_count": 6,
     "metadata": {},
     "output_type": "execute_result"
    }
   ],
   "source": [
    "#type casting\n",
    "a=10\n",
    "b=str(a)\n",
    "b\n"
   ]
  },
  {
   "cell_type": "code",
   "execution_count": 7,
   "id": "b28a4ede",
   "metadata": {},
   "outputs": [
    {
     "data": {
      "text/plain": [
       "10"
      ]
     },
     "execution_count": 7,
     "metadata": {},
     "output_type": "execute_result"
    }
   ],
   "source": [
    "a=\"10\"\n",
    "b=int(a)\n",
    "b"
   ]
  },
  {
   "cell_type": "code",
   "execution_count": 8,
   "id": "cad913b9",
   "metadata": {},
   "outputs": [
    {
     "data": {
      "text/plain": [
       "10"
      ]
     },
     "execution_count": 8,
     "metadata": {},
     "output_type": "execute_result"
    }
   ],
   "source": [
    "a=10.5\n",
    "b=int(a)\n",
    "b\n"
   ]
  },
  {
   "cell_type": "code",
   "execution_count": 14,
   "id": "98ac708e",
   "metadata": {},
   "outputs": [
    {
     "name": "stdout",
     "output_type": "stream",
     "text": [
      "a1\n",
      "b2\n"
     ]
    },
    {
     "data": {
      "text/plain": [
       "'12'"
      ]
     },
     "execution_count": 14,
     "metadata": {},
     "output_type": "execute_result"
    }
   ],
   "source": [
    "a=(input(\"a\"))\n",
    "b=(input(\"b\"))\n",
    "c=a+b\n",
    "c"
   ]
  },
  {
   "cell_type": "code",
   "execution_count": 24,
   "id": "19b5114b",
   "metadata": {},
   "outputs": [
    {
     "name": "stdout",
     "output_type": "stream",
     "text": [
      "hello 10\n"
     ]
    }
   ],
   "source": [
    "a=\"hello \"\n",
    "b=\"10\"\n",
    "c=a+b\n",
    "print(c)"
   ]
  },
  {
   "cell_type": "code",
   "execution_count": 23,
   "id": "4222e8e9",
   "metadata": {},
   "outputs": [
    {
     "name": "stdout",
     "output_type": "stream",
     "text": [
      "hello world\n",
      "hello world\n",
      "hello world\n",
      "hello world\n",
      "\n"
     ]
    }
   ],
   "source": [
    "a=\"hello world\\n\"\n",
    "c=a*4\n",
    "print(c)"
   ]
  },
  {
   "cell_type": "code",
   "execution_count": 26,
   "id": "1a0cba8b",
   "metadata": {},
   "outputs": [
    {
     "name": "stdout",
     "output_type": "stream",
     "text": [
      "hello 10\n"
     ]
    }
   ],
   "source": [
    "a=\"hello \"\n",
    "b=10  #str(10)\n",
    "c=a+str(b)\n",
    "print(c)"
   ]
  },
  {
   "cell_type": "code",
   "execution_count": 34,
   "id": "077d851a",
   "metadata": {},
   "outputs": [
    {
     "name": "stdout",
     "output_type": "stream",
     "text": [
      "Enter nameaa\n",
      "Enter age1\n",
      "Enter addressa\n",
      "Hello world aa I am from a I am 1\n"
     ]
    }
   ],
   "source": [
    "name=input(\"Enter name\")\n",
    "age=int(input(\"Enter age\"))\n",
    "add=input(\"Enter address\")\n",
    "info=\"Hello world \"+name+\" I am from \"+add+\" I am \"+str(age)\n",
    "print(info)\n"
   ]
  },
  {
   "cell_type": "code",
   "execution_count": 38,
   "id": "6b12cbc6",
   "metadata": {},
   "outputs": [
    {
     "name": "stdout",
     "output_type": "stream",
     "text": [
      "1\n",
      "0\n",
      "3\n"
     ]
    }
   ],
   "source": [
    "#boolean value\n",
    "a=True\n",
    "b=False\n",
    "e=True\n",
    "f=True\n",
    "c=a+b\n",
    "d=a*b\n",
    "g=a+e+f\n",
    "print(c)\n",
    "print(d)\n",
    "print(g)"
   ]
  },
  {
   "cell_type": "code",
   "execution_count": 44,
   "id": "4a510ee4",
   "metadata": {},
   "outputs": [
    {
     "name": "stdout",
     "output_type": "stream",
     "text": [
      "(-14+22j)\n",
      "<class 'complex'>\n"
     ]
    }
   ],
   "source": [
    "#complex datatype\n",
    "a=2+4j\n",
    "b=3+5j\n",
    "c=a*b\n",
    "print(c)\n",
    "print(type(c))"
   ]
  },
  {
   "cell_type": "code",
   "execution_count": null,
   "id": "4be863dd",
   "metadata": {},
   "outputs": [],
   "source": []
  }
 ],
 "metadata": {
  "kernelspec": {
   "display_name": "Python 3 (ipykernel)",
   "language": "python",
   "name": "python3"
  },
  "language_info": {
   "codemirror_mode": {
    "name": "ipython",
    "version": 3
   },
   "file_extension": ".py",
   "mimetype": "text/x-python",
   "name": "python",
   "nbconvert_exporter": "python",
   "pygments_lexer": "ipython3",
   "version": "3.9.12"
  }
 },
 "nbformat": 4,
 "nbformat_minor": 5
}
