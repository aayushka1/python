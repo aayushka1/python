{
 "cells": [
  {
   "cell_type": "code",
   "execution_count": 1,
   "id": "f8ed35ee",
   "metadata": {},
   "outputs": [],
   "source": [
    "#tuple \n",
    "#inde\n",
    "#ordered\n",
    "#Multiple values\n",
    "#Imutable\n"
   ]
  },
  {
   "cell_type": "code",
   "execution_count": 2,
   "id": "32b48b06",
   "metadata": {},
   "outputs": [
    {
     "name": "stdout",
     "output_type": "stream",
     "text": [
      "(1, 2, 3, 4, 5)\n",
      "('Apple', 'Ball', 'Cat', 'Dog')\n",
      "<class 'tuple'>\n",
      "<class 'tuple'>\n"
     ]
    }
   ],
   "source": [
    "a=(1,2,3,4,5)\n",
    "b=(\"Apple\",\"Ball\",\"Cat\",\"Dog\")\n",
    "print(a)\n",
    "print(b)\n",
    "print(type(a))\n",
    "print(type(b))\n"
   ]
  },
  {
   "cell_type": "code",
   "execution_count": 4,
   "id": "db3d9c39",
   "metadata": {},
   "outputs": [
    {
     "name": "stdout",
     "output_type": "stream",
     "text": [
      "Apple\n",
      "5\n"
     ]
    }
   ],
   "source": [
    "print(b[0])\n",
    "print(a[4])"
   ]
  },
  {
   "cell_type": "code",
   "execution_count": 5,
   "id": "70008e0a",
   "metadata": {
    "scrolled": true
   },
   "outputs": [
    {
     "name": "stdout",
     "output_type": "stream",
     "text": [
      "(1, 2, 3, 4, 5, 'Apple', 'Ball', 'Cat', 'Dog')\n"
     ]
    }
   ],
   "source": [
    "a=(1,2,3,4,5)\n",
    "b=(\"Apple\",\"Ball\",\"Cat\",\"Dog\")\n",
    "c=a+b\n",
    "print(a+b)"
   ]
  },
  {
   "cell_type": "code",
   "execution_count": 20,
   "id": "c779d03c",
   "metadata": {},
   "outputs": [
    {
     "name": "stdout",
     "output_type": "stream",
     "text": [
      "('Apple', 'Ball')\n"
     ]
    }
   ],
   "source": [
    "#a=()\n",
    "#a=tuple()\n",
    "#append is not possible\n",
    "a=()\n",
    "a=a+(\"Apple\",)\n",
    "a=a+(\"Ball\",)\n",
    "print(a)"
   ]
  },
  {
   "cell_type": "code",
   "execution_count": 19,
   "id": "aa4e1dc6",
   "metadata": {},
   "outputs": [
    {
     "name": "stdout",
     "output_type": "stream",
     "text": [
      "<class 'tuple'>\n"
     ]
    }
   ],
   "source": [
    "a=(\"apple\",)\n",
    "print(type(a))"
   ]
  },
  {
   "cell_type": "code",
   "execution_count": 13,
   "id": "f7d0d223",
   "metadata": {},
   "outputs": [
    {
     "name": "stdout",
     "output_type": "stream",
     "text": [
      "Enter the value of n:2\n",
      "Enter x:2\n",
      "Enter x:3\n",
      "(2, 3)\n"
     ]
    }
   ],
   "source": [
    "t=()\n",
    "n=int(input(\"Enter the value of n:\"))\n",
    "for i in range(n):\n",
    "    x=int(input(\"Enter x:\"))\n",
    "    t=t+(x,)\n",
    "print(t)"
   ]
  },
  {
   "cell_type": "code",
   "execution_count": 14,
   "id": "bfc5e485",
   "metadata": {},
   "outputs": [],
   "source": [
    "#no append extend insert sort pop remove update del"
   ]
  },
  {
   "cell_type": "code",
   "execution_count": 18,
   "id": "3daf2b22",
   "metadata": {},
   "outputs": [
    {
     "name": "stdout",
     "output_type": "stream",
     "text": [
      "(1, 2, 4, 5)\n"
     ]
    }
   ],
   "source": [
    "a=(1,2,3,4,5)\n",
    "a=list(a)\n",
    "del a[2]\n",
    "a=tuple(a)\n",
    "print(a)"
   ]
  },
  {
   "cell_type": "code",
   "execution_count": 22,
   "id": "1cdf1ed2",
   "metadata": {},
   "outputs": [
    {
     "name": "stdout",
     "output_type": "stream",
     "text": [
      "('Apple', 'Ball', 'Cat', 'Dog', 'Apple', 'Ball', 'Cat', 'Dog', 'Apple', 'Ball', 'Cat', 'Dog')\n"
     ]
    }
   ],
   "source": [
    "b=(\"Apple\",\"Ball\",\"Cat\",\"Dog\")\n",
    "print(b*3)"
   ]
  },
  {
   "cell_type": "code",
   "execution_count": 23,
   "id": "11149ab0",
   "metadata": {},
   "outputs": [
    {
     "data": {
      "text/plain": [
       "((1, 2, 3), (3, 4, 5), (8, 9, 0))"
      ]
     },
     "execution_count": 23,
     "metadata": {},
     "output_type": "execute_result"
    }
   ],
   "source": [
    "#tuple inside tuple\n",
    "a=((1,2,3),(3,4,5),(8,9,0))\n",
    "a"
   ]
  },
  {
   "cell_type": "code",
   "execution_count": 26,
   "id": "45ac7621",
   "metadata": {},
   "outputs": [
    {
     "name": "stdout",
     "output_type": "stream",
     "text": [
      "Enter n:3\n",
      "Enter your name:aayu\n",
      "Enter your age:12\n",
      "Enter your name:teja\n",
      "Enter your age:23\n",
      "Enter your name:krish\n",
      "Enter your age:23\n",
      "(('aayu', 12), ('teja', 23), ('krish', 23))\n"
     ]
    }
   ],
   "source": [
    "a=()\n",
    "n=int(input(\"Enter n:\"))\n",
    "for i in range(n):\n",
    "    name=input(\"Enter your name:\")\n",
    "    age=int(input(\"Enter your age:\"))\n",
    "    x=(name,age)\n",
    "    a=a+(x,)\n",
    "print(a)"
   ]
  },
  {
   "cell_type": "code",
   "execution_count": 27,
   "id": "107a82e6",
   "metadata": {},
   "outputs": [
    {
     "data": {
      "text/plain": [
       "[('aayu', 12), ('teja', 23), ('krish', 23)]"
      ]
     },
     "execution_count": 27,
     "metadata": {},
     "output_type": "execute_result"
    }
   ],
   "source": [
    "a=(('aayu', 12), ('teja', 23), ('krish', 23))\n",
    "list(a)"
   ]
  },
  {
   "cell_type": "code",
   "execution_count": 28,
   "id": "6bff237e",
   "metadata": {},
   "outputs": [
    {
     "data": {
      "text/plain": [
       "(('aayu', 12), ('teja', 23), ('krish', 23))"
      ]
     },
     "execution_count": 28,
     "metadata": {},
     "output_type": "execute_result"
    }
   ],
   "source": [
    "b=[('aayu', 12), ('teja', 23), ('krish', 23)]\n",
    "tuple(b)"
   ]
  },
  {
   "cell_type": "code",
   "execution_count": 32,
   "id": "38193122",
   "metadata": {},
   "outputs": [
    {
     "name": "stdout",
     "output_type": "stream",
     "text": [
      "[['aayu', 12], ['teja', 23], ['krish', 23]]\n"
     ]
    }
   ],
   "source": [
    "b=[]\n",
    "a=(('aayu', 12), ('teja', 23), ('krish', 23))\n",
    "for i in a:\n",
    "    b.append(list(i))\n",
    "print(b)"
   ]
  },
  {
   "cell_type": "code",
   "execution_count": 35,
   "id": "c0862379",
   "metadata": {},
   "outputs": [
    {
     "name": "stdout",
     "output_type": "stream",
     "text": [
      "(('aayu', 12), ('teja', 23), ('krish', 23))\n"
     ]
    }
   ],
   "source": [
    "b=()\n",
    "a=[['aayu', 12],['teja', 23], ['krish', 23]]\n",
    "for i in a:\n",
    "    b=b+(tuple(i),)\n",
    "print(b)\n",
    "\n",
    "\n"
   ]
  },
  {
   "cell_type": "code",
   "execution_count": null,
   "id": "f93c5208",
   "metadata": {},
   "outputs": [],
   "source": [
    "\n"
   ]
  }
 ],
 "metadata": {
  "kernelspec": {
   "display_name": "Python 3 (ipykernel)",
   "language": "python",
   "name": "python3"
  },
  "language_info": {
   "codemirror_mode": {
    "name": "ipython",
    "version": 3
   },
   "file_extension": ".py",
   "mimetype": "text/x-python",
   "name": "python",
   "nbconvert_exporter": "python",
   "pygments_lexer": "ipython3",
   "version": "3.9.12"
  }
 },
 "nbformat": 4,
 "nbformat_minor": 5
}
