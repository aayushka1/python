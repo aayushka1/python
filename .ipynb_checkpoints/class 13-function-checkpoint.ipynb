{
 "cells": [
  {
   "cell_type": "code",
   "execution_count": 1,
   "id": "7282b7fd",
   "metadata": {},
   "outputs": [],
   "source": [
    "#function\n",
    "#user defined\n",
    "#pre defined\n",
    "\n"
   ]
  },
  {
   "cell_type": "code",
   "execution_count": 2,
   "id": "16084423",
   "metadata": {},
   "outputs": [],
   "source": [
    "#def <functionn>:\n",
    "# <operation>\n",
    "#<functionn>()"
   ]
  },
  {
   "cell_type": "code",
   "execution_count": null,
   "id": "586605c4",
   "metadata": {},
   "outputs": [],
   "source": [
    "def cal():\n",
    "    "
   ]
  }
 ],
 "metadata": {
  "kernelspec": {
   "display_name": "Python 3 (ipykernel)",
   "language": "python",
   "name": "python3"
  },
  "language_info": {
   "codemirror_mode": {
    "name": "ipython",
    "version": 3
   },
   "file_extension": ".py",
   "mimetype": "text/x-python",
   "name": "python",
   "nbconvert_exporter": "python",
   "pygments_lexer": "ipython3",
   "version": "3.9.12"
  }
 },
 "nbformat": 4,
 "nbformat_minor": 5
}
