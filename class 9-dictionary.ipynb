{
 "cells": [
  {
   "cell_type": "code",
   "execution_count": 1,
   "id": "db387071",
   "metadata": {},
   "outputs": [],
   "source": [
    "#dict\n",
    "#-Indexed\n",
    "#Ordered\n",
    "#Multiple Value\n",
    "#Mutable datatype"
   ]
  },
  {
   "cell_type": "code",
   "execution_count": 2,
   "id": "62c28d67",
   "metadata": {},
   "outputs": [],
   "source": [
    "#d={}\n",
    "#d=dict()\n",
    "#d={<key>:<value>,<key>:<value>,...}\n"
   ]
  },
  {
   "cell_type": "code",
   "execution_count": 3,
   "id": "97f531ce",
   "metadata": {},
   "outputs": [
    {
     "name": "stdout",
     "output_type": "stream",
     "text": [
      "{'a': 'apple', 'v': 'Ball', 'c': 'Cat'}\n"
     ]
    }
   ],
   "source": [
    "d={'a':'apple',\"b\":\"Ball\",\"c\":\"Cat\"}\n",
    "print(d)"
   ]
  },
  {
   "cell_type": "code",
   "execution_count": 4,
   "id": "b7d17ac3",
   "metadata": {},
   "outputs": [
    {
     "data": {
      "text/plain": [
       "'Cat'"
      ]
     },
     "execution_count": 4,
     "metadata": {},
     "output_type": "execute_result"
    }
   ],
   "source": [
    "d[\"c\"]"
   ]
  },
  {
   "cell_type": "code",
   "execution_count": 6,
   "id": "fcb090d2",
   "metadata": {},
   "outputs": [
    {
     "data": {
      "text/plain": [
       "3"
      ]
     },
     "execution_count": 6,
     "metadata": {},
     "output_type": "execute_result"
    }
   ],
   "source": [
    "len(d)"
   ]
  },
  {
   "cell_type": "code",
   "execution_count": 8,
   "id": "5dd310af",
   "metadata": {},
   "outputs": [
    {
     "data": {
      "text/plain": [
       "{'a': 'Apple', 'b': 'Ball', 'c': 'Cat'}"
      ]
     },
     "execution_count": 8,
     "metadata": {},
     "output_type": "execute_result"
    }
   ],
   "source": [
    "d={'a':'apple',\"b\":\"Ball\",\"c\":\"Cat\"}\n",
    "d['a']='Apple'\n",
    "d"
   ]
  },
  {
   "cell_type": "code",
   "execution_count": 9,
   "id": "4125e031",
   "metadata": {},
   "outputs": [
    {
     "data": {
      "text/plain": [
       "{'a': 'apple', 'b': 'Ball', 'c': 'Cat', 'd': 'dog'}"
      ]
     },
     "execution_count": 9,
     "metadata": {},
     "output_type": "execute_result"
    }
   ],
   "source": [
    "d={'a':'apple',\"b\":\"Ball\",\"c\":\"Cat\"}\n",
    "d['d']='dog'\n",
    "d"
   ]
  },
  {
   "cell_type": "code",
   "execution_count": 11,
   "id": "67b5b89f",
   "metadata": {},
   "outputs": [
    {
     "data": {
      "text/plain": [
       "{'a': 'Apple', 'b': 'book', 'c': 'cat', 'd': 'dog'}"
      ]
     },
     "execution_count": 11,
     "metadata": {},
     "output_type": "execute_result"
    }
   ],
   "source": [
    "d={}\n",
    "d['a']='Apple'\n",
    "d['b']='book'\n",
    "d['c']='cat'\n",
    "d['d']='dog'\n",
    "d"
   ]
  },
  {
   "cell_type": "code",
   "execution_count": 14,
   "id": "a6c0ba99",
   "metadata": {},
   "outputs": [
    {
     "name": "stdout",
     "output_type": "stream",
     "text": [
      "Enter n:2\n",
      "Enter nameAayushka\n",
      "Enter phone984121212\n",
      "Enter nameAnu\n",
      "Enter phone98222222\n",
      "{'Aayushka': '984121212', 'Anu': '98222222'}\n"
     ]
    }
   ],
   "source": [
    "d={}\n",
    "n=int(input('Enter n:'))\n",
    "for i in range(n):\n",
    "    name=input(\"Enter name:\")\n",
    "    phone=input(\"Enter phone:\")\n",
    "    d[name]=phone\n",
    "print(d)"
   ]
  },
  {
   "cell_type": "code",
   "execution_count": 15,
   "id": "13610b43",
   "metadata": {},
   "outputs": [
    {
     "name": "stdout",
     "output_type": "stream",
     "text": [
      "('Aayushka', '984121212')\n",
      "('Anu', '98222222')\n"
     ]
    }
   ],
   "source": [
    "for i in d.items():\n",
    "    print(i)"
   ]
  },
  {
   "cell_type": "code",
   "execution_count": 16,
   "id": "57298904",
   "metadata": {},
   "outputs": [
    {
     "data": {
      "text/plain": [
       "[('Aayushka', '984121212'), ('Anu', '98222222')]"
      ]
     },
     "execution_count": 16,
     "metadata": {},
     "output_type": "execute_result"
    }
   ],
   "source": [
    "x=[]\n",
    "d={'Aayushka': '984121212', 'Anu': '98222222'}\n",
    "for i in d.items():\n",
    "    x.append(i)\n",
    "x   "
   ]
  },
  {
   "cell_type": "code",
   "execution_count": 17,
   "id": "7350a25c",
   "metadata": {},
   "outputs": [
    {
     "data": {
      "text/plain": [
       "{'Aayushka': '984121212', 'Anu': '98222222'}"
      ]
     },
     "execution_count": 17,
     "metadata": {},
     "output_type": "execute_result"
    }
   ],
   "source": [
    "dict(x)"
   ]
  },
  {
   "cell_type": "code",
   "execution_count": 18,
   "id": "c0c6df60",
   "metadata": {},
   "outputs": [
    {
     "data": {
      "text/plain": [
       "{'Aayushka': '984121212', 'Anu': '98222222', 'Ram': 987216563}"
      ]
     },
     "execution_count": 18,
     "metadata": {},
     "output_type": "execute_result"
    }
   ],
   "source": [
    "d={'Aayushka': '984121212', 'Anu': '98222222'}\n",
    "c={'Ram':987216563}\n",
    "d.update(c)\n",
    "d"
   ]
  },
  {
   "cell_type": "code",
   "execution_count": 19,
   "id": "1dfbb682",
   "metadata": {},
   "outputs": [
    {
     "data": {
      "text/plain": [
       "{'Aayushka': '984121212', 'Anu': '98222222'}"
      ]
     },
     "execution_count": 19,
     "metadata": {},
     "output_type": "execute_result"
    }
   ],
   "source": [
    "#del pop()\n",
    "d={'Aayushka': '984121212', 'Anu': '98222222', 'Ram': 987216563}\n",
    "del d['Ram']\n",
    "d"
   ]
  },
  {
   "cell_type": "code",
   "execution_count": 20,
   "id": "0ca1ae15",
   "metadata": {},
   "outputs": [
    {
     "data": {
      "text/plain": [
       "{'Aayushka': '984121212', 'Anu': '98222222'}"
      ]
     },
     "execution_count": 20,
     "metadata": {},
     "output_type": "execute_result"
    }
   ],
   "source": [
    "d={'Aayushka': '984121212', 'Anu': '98222222', 'Ram': 987216563}\n",
    "d.pop(\"Ram\")\n",
    "d"
   ]
  },
  {
   "cell_type": "code",
   "execution_count": 21,
   "id": "8cf50be2",
   "metadata": {},
   "outputs": [
    {
     "data": {
      "text/plain": [
       "{}"
      ]
     },
     "execution_count": 21,
     "metadata": {},
     "output_type": "execute_result"
    }
   ],
   "source": [
    "d={'Aayushka': '984121212', 'Anu': '98222222', 'Ram': 987216563}\n",
    "d.clear()\n",
    "d"
   ]
  },
  {
   "cell_type": "code",
   "execution_count": 22,
   "id": "3e238d0d",
   "metadata": {},
   "outputs": [
    {
     "data": {
      "text/plain": [
       "{'Aayushka': ['984121212', '987271621'], 'Anu': '98222222', 'Ram': 987216563}"
      ]
     },
     "execution_count": 22,
     "metadata": {},
     "output_type": "execute_result"
    }
   ],
   "source": [
    "#list inside list\n",
    "d={'Aayushka': ['984121212','987271621'], 'Anu': '98222222', 'Ram': 987216563}\n",
    "d"
   ]
  },
  {
   "cell_type": "code",
   "execution_count": 25,
   "id": "9c5f5f97",
   "metadata": {},
   "outputs": [
    {
     "name": "stdout",
     "output_type": "stream",
     "text": [
      "['984121212', '987271621']\n",
      "984121212\n"
     ]
    }
   ],
   "source": [
    "print(d['Aayushka'])\n",
    "print(d['Aayushka'][0])"
   ]
  },
  {
   "cell_type": "code",
   "execution_count": 26,
   "id": "69315f85",
   "metadata": {},
   "outputs": [
    {
     "name": "stdout",
     "output_type": "stream",
     "text": [
      "Enter the value of n:2\n",
      "Enter namesdd\n",
      "Enter ntc phone:43534453\n",
      "Enter ncell_phone:324324\n",
      "Enter namehfhfgh\n",
      "Enter ntc phone:323424\n",
      "Enter ncell_phone:23423423\n"
     ]
    },
    {
     "data": {
      "text/plain": [
       "{'sdd': [43534453, 324324], 'hfhfgh': [323424, 23423423]}"
      ]
     },
     "execution_count": 26,
     "metadata": {},
     "output_type": "execute_result"
    }
   ],
   "source": [
    "d={}\n",
    "n=int(input(\"Enter the value of n:\"))\n",
    "for i in range(n):\n",
    "    name=input(\"Enter name\")\n",
    "    ntc_phone=int(input(\"Enter ntc phone:\"))\n",
    "    ncell_phone=int(input(\"Enter ncell_phone:\"))\n",
    "    d[name]=[ntc_phone,ncell_phone]\n",
    "d    \n",
    "    "
   ]
  },
  {
   "cell_type": "code",
   "execution_count": 29,
   "id": "3b1434c6",
   "metadata": {},
   "outputs": [
    {
     "data": {
      "text/plain": [
       "{'sdd': [43534453, 324324],\n",
       " 'hfhfgh': [323424, 23423423],\n",
       " 'Hari': [342442, 32424233]}"
      ]
     },
     "execution_count": 29,
     "metadata": {},
     "output_type": "execute_result"
    }
   ],
   "source": [
    "a={'sdd': [43534453, 324324], 'hfhfgh': [323424, 23423423]}\n",
    "a['Hari']=[342442,32424233]\n",
    "a"
   ]
  },
  {
   "cell_type": "code",
   "execution_count": 34,
   "id": "1ae54220",
   "metadata": {},
   "outputs": [
    {
     "data": {
      "text/plain": [
       "43534453"
      ]
     },
     "execution_count": 34,
     "metadata": {},
     "output_type": "execute_result"
    }
   ],
   "source": [
    "a={'ram': [43534453, 324324], 'shyam': [323424, 23423423]}\n",
    "a['ram'][0]\n"
   ]
  },
  {
   "cell_type": "code",
   "execution_count": 35,
   "id": "0915d0e9",
   "metadata": {},
   "outputs": [
    {
     "data": {
      "text/plain": [
       "{'ram': [122213213, 324324], 'shyam': [323424, 23423423]}"
      ]
     },
     "execution_count": 35,
     "metadata": {},
     "output_type": "execute_result"
    }
   ],
   "source": [
    "a={'ram': [43534453, 324324], 'shyam': [323424, 23423423]}\n",
    "a['ram'][0]=122213213\n",
    "a\n"
   ]
  },
  {
   "cell_type": "code",
   "execution_count": 36,
   "id": "feea93e1",
   "metadata": {},
   "outputs": [
    {
     "data": {
      "text/plain": [
       "{'ram': [43534453, 324324, 432423], 'shyam': [323424, 23423423]}"
      ]
     },
     "execution_count": 36,
     "metadata": {},
     "output_type": "execute_result"
    }
   ],
   "source": [
    "a={'ram': [43534453, 324324], 'shyam': [323424, 23423423]}\n",
    "a['ram'].append(432423)\n",
    "a"
   ]
  },
  {
   "cell_type": "code",
   "execution_count": 38,
   "id": "ed88edc4",
   "metadata": {},
   "outputs": [
    {
     "name": "stdout",
     "output_type": "stream",
     "text": [
      "Enter n:2\n",
      "Enter name:das\n",
      "Enter age:22\n",
      "Enter add:sd\n",
      "Enter name:dscds\n",
      "Enter age:332\n",
      "Enter add:sdf\n"
     ]
    },
    {
     "data": {
      "text/plain": [
       "{'name': ['das', 'dscds'], 'age': [22, 332], 'address': ['sd', 'sdf']}"
      ]
     },
     "execution_count": 38,
     "metadata": {},
     "output_type": "execute_result"
    }
   ],
   "source": [
    "name=[]\n",
    "age=[]\n",
    "add=[]\n",
    "n=int(input(\"Enter n:\"))\n",
    "for i in range(n):\n",
    "    na=input(\"Enter name:\")\n",
    "    ag=int(input(\"Enter age:\"))\n",
    "    ad=input(\"Enter add:\")\n",
    "    name.append(na)\n",
    "    age.append(ag)\n",
    "    add.append(ad)\n",
    "a={'name':name,'age':age,'address':add}\n",
    "a\n",
    "\n",
    "    "
   ]
  },
  {
   "cell_type": "code",
   "execution_count": null,
   "id": "056f9553",
   "metadata": {},
   "outputs": [],
   "source": []
  }
 ],
 "metadata": {
  "kernelspec": {
   "display_name": "Python 3 (ipykernel)",
   "language": "python",
   "name": "python3"
  },
  "language_info": {
   "codemirror_mode": {
    "name": "ipython",
    "version": 3
   },
   "file_extension": ".py",
   "mimetype": "text/x-python",
   "name": "python",
   "nbconvert_exporter": "python",
   "pygments_lexer": "ipython3",
   "version": "3.9.12"
  }
 },
 "nbformat": 4,
 "nbformat_minor": 5
}
