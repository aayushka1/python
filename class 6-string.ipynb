{
 "cells": [
  {
   "cell_type": "code",
   "execution_count": null,
   "id": "c208d733",
   "metadata": {},
   "outputs": [],
   "source": [
    "#string"
   ]
  },
  {
   "cell_type": "code",
   "execution_count": 1,
   "id": "73a1c5ba",
   "metadata": {},
   "outputs": [],
   "source": [
    "a='Python'\n",
    "b=\"python\""
   ]
  },
  {
   "cell_type": "code",
   "execution_count": 2,
   "id": "0947e726",
   "metadata": {},
   "outputs": [
    {
     "name": "stdout",
     "output_type": "stream",
     "text": [
      "<class 'str'>\n",
      "<class 'str'>\n",
      "<class 'str'>\n"
     ]
    }
   ],
   "source": [
    "a='Python'\n",
    "b=\"python\"\n",
    "c='''Python'''\n",
    "print(type(a))\n",
    "print(type(b))\n",
    "print(type(c))"
   ]
  },
  {
   "cell_type": "code",
   "execution_count": 3,
   "id": "85db7fc7",
   "metadata": {},
   "outputs": [
    {
     "data": {
      "text/plain": [
       "str"
      ]
     },
     "execution_count": 3,
     "metadata": {},
     "output_type": "execute_result"
    }
   ],
   "source": [
    "a='10'\n",
    "type(a)"
   ]
  },
  {
   "cell_type": "code",
   "execution_count": 6,
   "id": "cec65298",
   "metadata": {},
   "outputs": [
    {
     "name": "stdout",
     "output_type": "stream",
     "text": [
      "Enter a=ten\n"
     ]
    },
    {
     "data": {
      "text/plain": [
       "str"
      ]
     },
     "execution_count": 6,
     "metadata": {},
     "output_type": "execute_result"
    }
   ],
   "source": [
    "a=input(\"Enter a=\")\n",
    "type(a)\n",
    "            "
   ]
  },
  {
   "cell_type": "code",
   "execution_count": 12,
   "id": "d9091fb6",
   "metadata": {},
   "outputs": [
    {
     "name": "stdout",
     "output_type": "stream",
     "text": [
      "Enter a=a\n",
      "Enter b=a\n",
      "aaaa\n"
     ]
    }
   ],
   "source": [
    "a=input(\"Enter a=\")\n",
    "b=input(\"Enter b=\")\n",
    "c=a+b\n",
    "print(c*2)"
   ]
  },
  {
   "cell_type": "code",
   "execution_count": 13,
   "id": "487b1104",
   "metadata": {},
   "outputs": [],
   "source": [
    "#string formating"
   ]
  },
  {
   "cell_type": "code",
   "execution_count": 15,
   "id": "4c4f8218",
   "metadata": {},
   "outputs": [
    {
     "name": "stdout",
     "output_type": "stream",
     "text": [
      "Enter namea\n",
      "Enter agea\n",
      "Enter adda\n",
      "Hello world I am a.I am from a.I am a\n"
     ]
    }
   ],
   "source": [
    "name=input(\"Enter name\")\n",
    "age=input(\"Enter age\")\n",
    "add=input(\"Enter add\")\n",
    "info=f\"Hello world I am {name}.I am from {add}.I am {age}\"\n",
    "print(info)"
   ]
  },
  {
   "cell_type": "code",
   "execution_count": 20,
   "id": "aa037ac9",
   "metadata": {},
   "outputs": [
    {
     "name": "stdout",
     "output_type": "stream",
     "text": [
      "Enter n=2\n",
      "Enter product name:wewdks\n",
      "Enter product price:233\n",
      "Enter product quantity:23\n",
      "Enter product name:dfsd\n",
      "Enter product price:2\n",
      "Enter product quantity:3\n",
      "wewdks 233 23 5359\n",
      "dfsd 2 3 6\n",
      "\n"
     ]
    }
   ],
   "source": [
    "bill=\"\"\n",
    "n=int(input(\"Enter n=\"))\n",
    "for i in range(n):\n",
    "    product=input(\"Enter product name:\")\n",
    "    price=int(input(\"Enter product price:\"))\n",
    "    quantity=int(input(\"Enter product quantity:\"))\n",
    "    total=price*quantity\n",
    "    info=f\"{product} {price} {quantity} {total}\\n\"\n",
    "    bill=bill+info\n",
    "print(bill)"
   ]
  },
  {
   "cell_type": "markdown",
   "id": "59ba9585",
   "metadata": {},
   "source": []
  },
  {
   "cell_type": "code",
   "execution_count": 21,
   "id": "bea9ef51",
   "metadata": {},
   "outputs": [],
   "source": [
    "#string slicing\n"
   ]
  },
  {
   "cell_type": "code",
   "execution_count": 23,
   "id": "1e0368a8",
   "metadata": {},
   "outputs": [
    {
     "name": "stdout",
     "output_type": "stream",
     "text": [
      "Hello\n"
     ]
    }
   ],
   "source": [
    "a=\"Hello world i am python\"\n",
    "print(a[0:5])"
   ]
  },
  {
   "cell_type": "code",
   "execution_count": 33,
   "id": "9f6cb692",
   "metadata": {},
   "outputs": [
    {
     "name": "stdout",
     "output_type": "stream",
     "text": [
      "Hlowrdia y\n",
      "rld i am python\n"
     ]
    }
   ],
   "source": [
    "a=\"Hello world i am python\"\n",
    "b=a[0:20:2]\n",
    "c=a[8:]\n",
    "print(b)\n",
    "print(c)"
   ]
  },
  {
   "cell_type": "code",
   "execution_count": 38,
   "id": "fbd02a0c",
   "metadata": {},
   "outputs": [
    {
     "name": "stdout",
     "output_type": "stream",
     "text": [
      "nohtyp ma i dlrow olleH\n"
     ]
    }
   ],
   "source": [
    "a=\"Hello world i am python\"\n",
    "print(a[::-1])\n"
   ]
  },
  {
   "cell_type": "code",
   "execution_count": 40,
   "id": "d13b3c44",
   "metadata": {},
   "outputs": [
    {
     "name": "stdout",
     "output_type": "stream",
     "text": [
      "Enter search:a\n",
      "Yes\n",
      "8\n"
     ]
    }
   ],
   "source": [
    "a=\"Ram shyam Ram hari gita sita sita sita\"\n",
    "search=input(\"Enter search:\")\n",
    "if search in a:\n",
    "    print(\"Yes\")\n",
    "    print(a.count(search))"
   ]
  },
  {
   "cell_type": "code",
   "execution_count": 42,
   "id": "3f137f4f",
   "metadata": {},
   "outputs": [
    {
     "name": "stdout",
     "output_type": "stream",
     "text": [
      "RAM SHYAM RAM HARI GITA SITA SITA SITA\n"
     ]
    }
   ],
   "source": [
    "a=\"Ram shyam Ram hari gita sita sita sita\"\n",
    "print(a.upper())"
   ]
  },
  {
   "cell_type": "code",
   "execution_count": 46,
   "id": "9ec34aa7",
   "metadata": {},
   "outputs": [
    {
     "name": "stdout",
     "output_type": "stream",
     "text": [
      "Enter search:ram\n",
      "Yes\n",
      "2\n"
     ]
    }
   ],
   "source": [
    "a=\"Ram shyam Ram hari gita sita sita sita\".lower()\n",
    "search=input(\"Enter search:\").lower()\n",
    "if search in a:\n",
    "    print(\"Yes\")\n",
    "    print(a.count(search))"
   ]
  },
  {
   "cell_type": "code",
   "execution_count": 50,
   "id": "162cfd9a",
   "metadata": {},
   "outputs": [
    {
     "name": "stdout",
     "output_type": "stream",
     "text": [
      "Ram shyam ram hari gita sita sita sita\n",
      "Ram shyam  hari gita sita sita sita\n"
     ]
    }
   ],
   "source": [
    "a=\"Ram shyam ram hari gita sita sita sita\"\n",
    "b=a.replace('ram','')    \n",
    "print(a)\n",
    "print(b)"
   ]
  },
  {
   "cell_type": "code",
   "execution_count": 1,
   "id": "d7d6db58",
   "metadata": {},
   "outputs": [
    {
     "name": "stdout",
     "output_type": "stream",
     "text": [
      "Ram shyam Ram hari gita sita sita sita\n"
     ]
    }
   ],
   "source": [
    "a=\"Ram shyam ram hari gita sita sita sita\"\n",
    "print(a.replace('ram','Ram'))"
   ]
  },
  {
   "cell_type": "code",
   "execution_count": 52,
   "id": "01521d75",
   "metadata": {},
   "outputs": [
    {
     "name": "stdout",
     "output_type": "stream",
     "text": [
      "['Ram', 'shyam', 'ram', 'hari', 'gita', 'sita', 'sita', 'sita']\n"
     ]
    }
   ],
   "source": [
    "a=\"Ram shyam ram hari gita sita sita sita\"\n",
    "print(a.split())"
   ]
  },
  {
   "cell_type": "code",
   "execution_count": 54,
   "id": "1d7709ba",
   "metadata": {},
   "outputs": [
    {
     "name": "stdout",
     "output_type": "stream",
     "text": [
      "Ram Shyam Ram Hari Gita Sita Sita Sita\n"
     ]
    }
   ],
   "source": [
    "a=\"RAM shyam ram hari gita sita sita sita\"\n",
    "print(a.title())"
   ]
  },
  {
   "cell_type": "code",
   "execution_count": null,
   "id": "2b870831",
   "metadata": {},
   "outputs": [],
   "source": []
  }
 ],
 "metadata": {
  "kernelspec": {
   "display_name": "Python 3 (ipykernel)",
   "language": "python",
   "name": "python3"
  },
  "language_info": {
   "codemirror_mode": {
    "name": "ipython",
    "version": 3
   },
   "file_extension": ".py",
   "mimetype": "text/x-python",
   "name": "python",
   "nbconvert_exporter": "python",
   "pygments_lexer": "ipython3",
   "version": "3.9.12"
  }
 },
 "nbformat": 4,
 "nbformat_minor": 5
}
