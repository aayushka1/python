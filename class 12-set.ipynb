{
 "cells": [
  {
   "cell_type": "code",
   "execution_count": 1,
   "id": "62a34f0a",
   "metadata": {},
   "outputs": [],
   "source": [
    "#Set\n",
    "#No indexing\n",
    "#Multiple value\n",
    "#No duplicate values\n",
    "#Mutable"
   ]
  },
  {
   "cell_type": "code",
   "execution_count": 2,
   "id": "72b381de",
   "metadata": {},
   "outputs": [
    {
     "name": "stdout",
     "output_type": "stream",
     "text": [
      "<class 'set'>\n"
     ]
    }
   ],
   "source": [
    "a={1,2,3,4,5,6,7,8,9}\n",
    "b={\"Apple\",\"Ball\",\"Cat\",\"Dog\"}\n",
    "print(type(a))"
   ]
  },
  {
   "cell_type": "code",
   "execution_count": 4,
   "id": "9365d57d",
   "metadata": {},
   "outputs": [
    {
     "data": {
      "text/plain": [
       "dict"
      ]
     },
     "execution_count": 4,
     "metadata": {},
     "output_type": "execute_result"
    }
   ],
   "source": [
    "a={}\n",
    "type(a)"
   ]
  },
  {
   "cell_type": "code",
   "execution_count": 5,
   "id": "f505075a",
   "metadata": {},
   "outputs": [
    {
     "data": {
      "text/plain": [
       "set"
      ]
     },
     "execution_count": 5,
     "metadata": {},
     "output_type": "execute_result"
    }
   ],
   "source": [
    "a={1}\n",
    "type(a)"
   ]
  },
  {
   "cell_type": "code",
   "execution_count": 11,
   "id": "5aa93129",
   "metadata": {},
   "outputs": [
    {
     "name": "stdout",
     "output_type": "stream",
     "text": [
      "{1, 2, 3, 'Apple', 'Ball', 'Cat'}\n"
     ]
    }
   ],
   "source": [
    "b={1,\"Apple\",\"Ball\",2,\"Cat\",3,3,2,\"Apple\"}\n",
    "print(b)"
   ]
  },
  {
   "cell_type": "code",
   "execution_count": 10,
   "id": "645ba26d",
   "metadata": {},
   "outputs": [
    {
     "data": {
      "text/plain": [
       "{1, 2, 3, 'Apple', 'Ball', 'Cat'}"
      ]
     },
     "execution_count": 10,
     "metadata": {},
     "output_type": "execute_result"
    }
   ],
   "source": [
    "b"
   ]
  },
  {
   "cell_type": "code",
   "execution_count": 15,
   "id": "6bce3f61",
   "metadata": {},
   "outputs": [
    {
     "data": {
      "text/plain": [
       "{'Apple', 'ball'}"
      ]
     },
     "execution_count": 15,
     "metadata": {},
     "output_type": "execute_result"
    }
   ],
   "source": [
    "a=set()\n",
    "a.add(\"Apple\")\n",
    "a.add(\"ball\")\n",
    "a"
   ]
  },
  {
   "cell_type": "code",
   "execution_count": 16,
   "id": "400bd66a",
   "metadata": {},
   "outputs": [
    {
     "data": {
      "text/plain": [
       "{1, 2, 3, 'Ball', 'Cat'}"
      ]
     },
     "execution_count": 16,
     "metadata": {},
     "output_type": "execute_result"
    }
   ],
   "source": [
    "a={1, 2, 3, 'Apple', 'Ball', 'Cat'}\n",
    "a.remove(\"Apple\")\n",
    "a"
   ]
  },
  {
   "cell_type": "code",
   "execution_count": 17,
   "id": "2e13678a",
   "metadata": {},
   "outputs": [
    {
     "data": {
      "text/plain": [
       "{1, 2, 3, 4, 5, 6, 'Apple', 'Ball', 'Cat'}"
      ]
     },
     "execution_count": 17,
     "metadata": {},
     "output_type": "execute_result"
    }
   ],
   "source": [
    "a={1, 2, 3, 'Apple', 'Ball', 'Cat'}\n",
    "a.update({4,5,6})\n",
    "a"
   ]
  },
  {
   "cell_type": "code",
   "execution_count": 20,
   "id": "4690b5cf",
   "metadata": {},
   "outputs": [
    {
     "data": {
      "text/plain": [
       "{'Gates', 'Nabin', 'Ram', 'Shyam', 'anu', 'jake', 'john', 'josh'}"
      ]
     },
     "execution_count": 20,
     "metadata": {},
     "output_type": "execute_result"
    }
   ],
   "source": [
    "apple={\"Ram\",'Shyam',\"josh\",\"jake\"}\n",
    "ms={\"Ram\",\"john\",\"Gates\",\"Nabin\",\"anu\"}\n",
    "apple.union(ms)"
   ]
  },
  {
   "cell_type": "code",
   "execution_count": 21,
   "id": "baa7827e",
   "metadata": {},
   "outputs": [
    {
     "data": {
      "text/plain": [
       "{'Ram'}"
      ]
     },
     "execution_count": 21,
     "metadata": {},
     "output_type": "execute_result"
    }
   ],
   "source": [
    "apple={\"Ram\",'Shyam',\"josh\",\"jake\"}\n",
    "ms={\"Ram\",\"john\",\"Gates\",\"Nabin\",\"anu\"}\n",
    "apple.intersection(ms)"
   ]
  },
  {
   "cell_type": "code",
   "execution_count": 22,
   "id": "7752d26e",
   "metadata": {},
   "outputs": [
    {
     "data": {
      "text/plain": [
       "{'jake', 'josh'}"
      ]
     },
     "execution_count": 22,
     "metadata": {},
     "output_type": "execute_result"
    }
   ],
   "source": [
    "apple={\"Ram\",'Shyam',\"josh\",\"jake\"}\n",
    "ms={\"Ram\",\"john\",\"Shyam\",\"Nabin\",\"anu\"}\n",
    "apple.difference(ms)"
   ]
  },
  {
   "cell_type": "code",
   "execution_count": null,
   "id": "085108e5",
   "metadata": {},
   "outputs": [],
   "source": []
  }
 ],
 "metadata": {
  "kernelspec": {
   "display_name": "Python 3 (ipykernel)",
   "language": "python",
   "name": "python3"
  },
  "language_info": {
   "codemirror_mode": {
    "name": "ipython",
    "version": 3
   },
   "file_extension": ".py",
   "mimetype": "text/x-python",
   "name": "python",
   "nbconvert_exporter": "python",
   "pygments_lexer": "ipython3",
   "version": "3.9.12"
  }
 },
 "nbformat": 4,
 "nbformat_minor": 5
}
